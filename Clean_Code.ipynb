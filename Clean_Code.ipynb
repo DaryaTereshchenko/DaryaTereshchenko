{
  "nbformat": 4,
  "nbformat_minor": 0,
  "metadata": {
    "colab": {
      "name": "Clean Code.ipynb",
      "provenance": [],
      "collapsed_sections": [],
      "toc_visible": true,
      "include_colab_link": true
    },
    "kernelspec": {
      "name": "python3",
      "display_name": "Python 3"
    },
    "language_info": {
      "name": "python"
    }
  },
  "cells": [
    {
      "cell_type": "markdown",
      "metadata": {
        "id": "view-in-github",
        "colab_type": "text"
      },
      "source": [
        "<a href=\"https://colab.research.google.com/github/DaryaTereshchenko/DaryaTereshchenko/blob/main/Clean_Code.ipynb\" target=\"_parent\"><img src=\"https://colab.research.google.com/assets/colab-badge.svg\" alt=\"Open In Colab\"/></a>"
      ]
    },
    {
      "cell_type": "markdown",
      "source": [
        "# Clean Code in Python"
      ],
      "metadata": {
        "id": "r__hI4_G3j1-"
      }
    },
    {
      "cell_type": "markdown",
      "source": [
        "### Why clean code?\n",
        "\n",
        "Look at the following function. Is it easy to understand what it does?"
      ],
      "metadata": {
        "id": "YlgHcu8N9vvo"
      }
    },
    {
      "cell_type": "code",
      "source": [
        "def password(p):\n",
        "    n = 0\n",
        "    c = 0\n",
        "    for i in p:\n",
        "        if i.isdigit():\n",
        "            n += 1\n",
        "        if i.isupper():\n",
        "            c += 1\n",
        "    return len(p) >= 8 and p.isalnum() and c == 2 and n == 2"
      ],
      "metadata": {
        "colab": {
          "base_uri": "https://localhost:8080/"
        },
        "id": "psLwgGhM3m62",
        "outputId": "ce1400f9-bacd-4ea1-d6c9-9848d2f663f2"
      },
      "execution_count": null,
      "outputs": [
        {
          "output_type": "stream",
          "name": "stdout",
          "text": [
            "[True, True, False, False]\n"
          ]
        }
      ]
    },
    {
      "cell_type": "markdown",
      "source": [
        "Now look at the following code. The only thing that changed in the logic is the variable declaration at the start.\n",
        "\n",
        "Is it easier to understand?"
      ],
      "metadata": {
        "id": "gbKqNgDG8-Ej"
      }
    },
    {
      "cell_type": "code",
      "source": [
        "def is_valid(password):\n",
        "    \"\"\"Checks that a password is valid:\n",
        "\n",
        "     * it has at least 8 characters\n",
        "     * it contains only letters and digits\n",
        "     * it contains exactly 2 digits\n",
        "     * it contains exactly 2 capital letters\n",
        "    \"\"\"\n",
        "    digits, capitals = 0, 0\n",
        "    for c in password:\n",
        "        if c.isdigit():\n",
        "            digits += 1\n",
        "        if c.isupper():\n",
        "            capitals += 1\n",
        "    return (len(password) >= 8 and password.isalnum()\n",
        "           and digits == 2 and capitals == 2)"
      ],
      "metadata": {
        "id": "rG57uQ_y3u5M"
      },
      "execution_count": null,
      "outputs": []
    },
    {
      "cell_type": "markdown",
      "source": [
        "## Code Formatting\n",
        "\n",
        "Pay attention to:\n",
        "- Indentation\n",
        "- Lines and line breaks\n",
        "- Variable and function names\n",
        "- Comments and docstrings\n",
        "\n",
        "Above all: be consistent.\n",
        "\n",
        "Check out [Style Guide for Python Code](https://peps.python.org/pep-0008/) for more details."
      ],
      "metadata": {
        "id": "nF0KBj_u5X6L"
      }
    },
    {
      "cell_type": "code",
      "source": [
        "def tokenize(s): pass\n",
        "def is_foreign_word(t): pass\n",
        "\n",
        "def has_foreign_word(sentence):\n",
        "  \"\"\"Check if there's at least one foreign word in a sentence.\n",
        "  \n",
        "  sentence: a string that contains the raw (untokenized) sentence.\n",
        "  Returns True if there's a foreign word in the sentence, and False otherwise.\n",
        "  \"\"\"\n",
        "  for token in tokenize(sentence):\n",
        "    if is_foreign_word(token):\n",
        "      return True\n",
        "  return False\n"
      ],
      "metadata": {
        "colab": {
          "base_uri": "https://localhost:8080/"
        },
        "id": "_rK1q5orCQqS",
        "outputId": "6f595d94-9d36-41ea-e57b-e01e74d8c7cd"
      },
      "execution_count": null,
      "outputs": [
        {
          "output_type": "execute_result",
          "data": {
            "text/plain": [
              "['Hello', 'World']"
            ]
          },
          "metadata": {},
          "execution_count": 12
        }
      ]
    },
    {
      "cell_type": "markdown",
      "source": [
        "### Lines and line breaks"
      ],
      "metadata": {
        "id": "j4_C34dC5aNc"
      }
    },
    {
      "cell_type": "markdown",
      "source": [
        "Keep your line length under 80 characters. This line (11) is too long:"
      ],
      "metadata": {
        "id": "4H4gwj8jJqOC"
      }
    },
    {
      "cell_type": "code",
      "source": [
        "def calculate_price(supplies_cost, wage, utilities_rate, time, tax, profit_margin):\n",
        "  \"\"\"Calculates the price (in $) of a product per item\n",
        "\n",
        "   * supplies_cost: total cost of supplies for an item ($)\n",
        "   * wage: labor cost per hour ($)\n",
        "   * utilities_rate: cost of utilities (electricity, etc.) per hour ($)\n",
        "   * time: time to make the item (in hours)\n",
        "   * tax: tax paid during sale (%)\n",
        "   * profit_margin: the profit margin for the product (%)\n",
        "  \"\"\"\n",
        "  return (supplies_cost + (wage + utilities_rate) * time) * (1 + tax / 100) * (1 + profit_margin / 100)\n",
        "\n",
        "calculate_price(20, 10, 1.5, 2, 20, 50)"
      ],
      "metadata": {
        "colab": {
          "base_uri": "https://localhost:8080/"
        },
        "id": "QAJjmh5D5Xj4",
        "outputId": "6e002554-092c-46cb-89d8-a7019dd3b0ba"
      },
      "execution_count": null,
      "outputs": [
        {
          "output_type": "execute_result",
          "data": {
            "text/plain": [
              "77.4"
            ]
          },
          "metadata": {},
          "execution_count": 2
        }
      ]
    },
    {
      "cell_type": "markdown",
      "source": [
        "Here are some strategies to make lines shorter.\n",
        "\n",
        "Breaking up the line:"
      ],
      "metadata": {
        "id": "shLGPxA579MO"
      }
    },
    {
      "cell_type": "code",
      "source": [
        "def calculate_price(supplies_cost, wage, utilities_rate, time, tax, profit_margin):\n",
        "  \"\"\"Calculates the price (in $) of a product per item\n",
        "\n",
        "   * supplies_cost: total cost of supplies for an item ($)\n",
        "   * wage: labor cost per hour ($)\n",
        "   * utilities_rate: cost of utilities (electricity, etc.) per hour ($)\n",
        "   * time: time to make the item (in hours)\n",
        "   * tax: tax paid during sale (%)\n",
        "   * profit_margin: the profit margin for the product (%)\n",
        "  \"\"\"\n",
        "  production_cost = (wage + utilities_rate) * time\n",
        "  tax_coeff = (1 + tax / 100)\n",
        "  profit_margin_coeff = (1 + profit_margin / 100)\n",
        "  return (supplies_cost + production_cost) * tax_coeff * profit_margin_coeff\n",
        "\n",
        "calculate_price(20, 10, 1.5, 2, 20, 50)"
      ],
      "metadata": {
        "colab": {
          "base_uri": "https://localhost:8080/"
        },
        "id": "_bJgRg668BeU",
        "outputId": "b7891fa0-0b33-4576-aa12-43339d5af40d"
      },
      "execution_count": null,
      "outputs": [
        {
          "output_type": "execute_result",
          "data": {
            "text/plain": [
              "77.4"
            ]
          },
          "metadata": {},
          "execution_count": 3
        }
      ]
    },
    {
      "cell_type": "markdown",
      "source": [
        "Using implicit line continuation:"
      ],
      "metadata": {
        "id": "r5ncuKBT8nu9"
      }
    },
    {
      "cell_type": "code",
      "source": [
        "def calculate_price(supplies_cost, wage, utilities_rate, \n",
        "                    time, tax, profit_margin):\n",
        "  \"\"\"Calculates the price (in $) of a product per item\n",
        "\n",
        "   * supplies_cost: total cost of supplies for an item ($)\n",
        "   * wage: labor cost per hour ($)\n",
        "   * utilities_rate: cost of utilities (electricity, etc.) per hour ($)\n",
        "   * time: time to make the item (in hours)\n",
        "   * tax: tax paid during sale (%)\n",
        "   * profit_margin: the profit margin for the product (%)\n",
        "  \"\"\"\n",
        "  return ((supplies_cost + (wage + utilities_rate) * time) \n",
        "          * (1 + tax / 100) * (1 + profit_margin / 100))\n",
        "\n",
        "calculate_price(20, 10, 1.5, 2, 20, 50)"
      ],
      "metadata": {
        "id": "1j1OBcer8zRe"
      },
      "execution_count": null,
      "outputs": []
    },
    {
      "cell_type": "markdown",
      "source": [
        "Using line breaks:"
      ],
      "metadata": {
        "id": "k1FlmPIR9EuQ"
      }
    },
    {
      "cell_type": "code",
      "source": [
        "def calculate_price(supplies_cost, wage, utilities_rate, \n",
        "                    time, tax, profit_margin):\n",
        "  \"\"\"Calculates the price (in $) of a product per item\n",
        "\n",
        "   * supplies_cost: total cost of supplies for an item ($)\n",
        "   * wage: labor cost per hour ($)\n",
        "   * utilities_rate: cost of utilities (electricity, etc.) per hour ($)\n",
        "   * time: time to make the item (in hours)\n",
        "   * tax: tax paid during sale (%)\n",
        "   * profit_margin: the profit margin for the product (%)\n",
        "  \"\"\"\n",
        "  return (supplies_cost + (wage + utilities_rate) * time) \\\n",
        "         * (1 + tax / 100) * (1 + profit_margin / 100)\n",
        "\n",
        "calculate_price(20, 10, 1.5, 2, 20, 50)"
      ],
      "metadata": {
        "colab": {
          "base_uri": "https://localhost:8080/"
        },
        "id": "7Oc0tAKe9GbN",
        "outputId": "171a8178-97b9-4721-fbd9-13a4e9ddd332"
      },
      "execution_count": null,
      "outputs": [
        {
          "output_type": "execute_result",
          "data": {
            "text/plain": [
              "77.4"
            ]
          },
          "metadata": {},
          "execution_count": 4
        }
      ]
    },
    {
      "cell_type": "markdown",
      "source": [
        "## Python Lifehacks"
      ],
      "metadata": {
        "id": "xZFZCNUL5lkD"
      }
    },
    {
      "cell_type": "markdown",
      "source": [
        "### Conditions\n",
        "\n",
        "Everything in Python is `True`, except:\n",
        "- Zeroes\n",
        "- Empty sequences\n",
        "- `None`\n",
        "- `False`\n",
        "\n",
        "You can check your values with the `bool()` function.\n",
        "\n",
        "On a match, `re.match()` returns the match which is an object, and therefore will be `True` if the regex matches."
      ],
      "metadata": {
        "id": "PNfxRpppJSxh"
      }
    },
    {
      "cell_type": "code",
      "source": [
        "import re\n",
        "\n",
        "s = \"hello\"\n",
        "\n",
        "if not s:\n",
        "  print(\"The string is empty\")\n",
        "\n",
        "if re.match(\".*ous\", \"studious\"):\n",
        "  print(\"This word ends with `ous`\")"
      ],
      "metadata": {
        "colab": {
          "base_uri": "https://localhost:8080/"
        },
        "id": "cp2wou3gJUFH",
        "outputId": "f718862f-c6a5-40d4-8f83-d07c6e404a81"
      },
      "execution_count": null,
      "outputs": [
        {
          "output_type": "stream",
          "name": "stdout",
          "text": [
            "This word ends with `ous`\n"
          ]
        }
      ]
    },
    {
      "cell_type": "markdown",
      "source": [
        "Booleans can be numbers:\n",
        "- `True` is 1\n",
        "- `False` is 0\n",
        "- `None` is **not** a number"
      ],
      "metadata": {
        "id": "DlWnYBZfhxZE"
      }
    },
    {
      "cell_type": "code",
      "source": [
        "sum([True, False, True])\n",
        "# 2\n",
        "\n",
        "sum([True, None, True])\n",
        "# TypeError: unsupported operand type(s) for +: 'int' and 'NoneType'"
      ],
      "metadata": {
        "id": "wgYgoObwLaVB"
      },
      "execution_count": null,
      "outputs": []
    },
    {
      "cell_type": "markdown",
      "source": [
        "The in operator is useful in conditions:"
      ],
      "metadata": {
        "id": "DXhtIUVph6-N"
      }
    },
    {
      "cell_type": "code",
      "source": [
        "word = \"better\"\n",
        "\n",
        "if word == \"good\" or word == \"better\" or word == \"best\":\n",
        "  print(\"This is a good word\")\n",
        "\n",
        "if word in {\"good\", \"better\", \"best\"}:\n",
        "  print(\"This is a good word\")"
      ],
      "metadata": {
        "id": "5LrIMXhAbP4m"
      },
      "execution_count": null,
      "outputs": []
    },
    {
      "cell_type": "markdown",
      "source": [
        "Both `if x not in` and `if not x in` work. \n",
        "\n",
        "Pick whichever looks most readable to you."
      ],
      "metadata": {
        "id": "xlHECv9Fh-5i"
      }
    },
    {
      "cell_type": "code",
      "source": [
        "digit = 5\n",
        "\n",
        "if not digit in [0, 2, 4, 6, 8]:\n",
        "  print(\"This is not an even digit\")\n",
        "\n",
        "if digit not in [0, 2, 4, 6, 8]:\n",
        "  print(\"This is not an even digit\")"
      ],
      "metadata": {
        "colab": {
          "base_uri": "https://localhost:8080/"
        },
        "id": "7e0HYWWDb623",
        "outputId": "6823b9b4-1b88-4a33-9da0-1b6cca0b06b5"
      },
      "execution_count": null,
      "outputs": [
        {
          "output_type": "stream",
          "name": "stdout",
          "text": [
            "This is not an even digit\n",
            "This is not an even digit\n"
          ]
        }
      ]
    },
    {
      "cell_type": "markdown",
      "source": [
        "### Data Structures"
      ],
      "metadata": {
        "id": "SiOYQ0YGuhGE"
      }
    },
    {
      "cell_type": "code",
      "source": [
        "# list\n",
        "[\"Hello\", \"world\", \"!\"]\n",
        "\n",
        "# set\n",
        "{\"Africa\", \"Europe\", \"Asia\", \"Australia\",\n",
        " \"Antarctica\", \"North America\", \"South America\"}\n",
        "\n",
        "# dictionary\n",
        "{\n",
        "    \"hello\": 5,\n",
        "    \"world\": 5,\n",
        "    \"!\": 1\n",
        "}"
      ],
      "metadata": {
        "colab": {
          "base_uri": "https://localhost:8080/"
        },
        "id": "pv6iqUePn6RT",
        "outputId": "c4432f6a-84f2-4cc0-ad1c-21f1dd4714f0"
      },
      "execution_count": null,
      "outputs": [
        {
          "output_type": "execute_result",
          "data": {
            "text/plain": [
              "{'!': 1, 'hello': 5, 'world': 5}"
            ]
          },
          "metadata": {},
          "execution_count": 2
        }
      ]
    },
    {
      "cell_type": "markdown",
      "source": [
        "A set is useful when you don't care how many times an item appears, or if it doesn't make sense for it to appear more than once."
      ],
      "metadata": {
        "id": "anPhnbQNjIIJ"
      }
    },
    {
      "cell_type": "code",
      "source": [
        "sentence = [\"a\", \"good\", \"person\", \"is\", \"a\", \"person\", \"who\", \"does\", \"good\"]\n",
        "print(len(sentence))\n",
        "\n",
        "sentence_set = set(sentence)\n",
        "print(sentence_set)\n",
        "print(len(sentence_set))"
      ],
      "metadata": {
        "colab": {
          "base_uri": "https://localhost:8080/"
        },
        "id": "48RqyG_Fibp4",
        "outputId": "8dbe17ca-7e86-4d31-d291-630f5a5d4a51"
      },
      "execution_count": null,
      "outputs": [
        {
          "output_type": "stream",
          "name": "stdout",
          "text": [
            "9\n",
            "{'good', 'is', 'a', 'does', 'person', 'who'}\n",
            "6\n"
          ]
        }
      ]
    },
    {
      "cell_type": "markdown",
      "source": [
        "Dictionaries allow for complex structures and let us label data."
      ],
      "metadata": {
        "id": "gl6M8v5CjRdD"
      }
    },
    {
      "cell_type": "code",
      "source": [
        "sentence = {\n",
        "    \"subject\": \"Obi-Wan Kenobi\",\n",
        "    \"object\": \"our only hope\",\n",
        "    \"verb\": \"is\"\n",
        "}\n",
        "\n",
        "def svo(sentence):\n",
        "  return (sentence['subject'] + \" \" + sentence['verb'] + \" \"\n",
        "          + sentence['object'] + \".\")\n",
        "\n",
        "print(svo(sentence))\n",
        "\n",
        "def yoda(sentence):\n",
        "  return (sentence['object'] + \", \" + sentence['subject'] + \" \"\n",
        "          + sentence['verb'] + \".\")\n",
        "  \n",
        "print(yoda(sentence))"
      ],
      "metadata": {
        "colab": {
          "base_uri": "https://localhost:8080/"
        },
        "id": "QhliiNNZuiZn",
        "outputId": "4c0b9455-e513-42bf-85c5-008965ba4598"
      },
      "execution_count": null,
      "outputs": [
        {
          "output_type": "stream",
          "name": "stdout",
          "text": [
            "Obi-Wan Kenobi is our only hope.\n",
            "our only hope, Obi-Wan Kenobi is.\n"
          ]
        }
      ]
    },
    {
      "cell_type": "markdown",
      "source": [
        "Data structures can be of arbitrary complexity and can contain other data structures."
      ],
      "metadata": {
        "id": "ntMqn4vGjcTv"
      }
    },
    {
      "cell_type": "code",
      "source": [
        "sentence = [\n",
        "    {\"word\": \"I\",\n",
        "     \"pos\": \"pronoun\",\n",
        "     \"attrs\": {\"first-person\", \"singular\", \"subjective\"}},\n",
        "    {\"word\": \"like\",\n",
        "     \"pos\": \"verb\",\n",
        "     \"attrs\": {\"present-tense\", \"abstract\"}},\n",
        "    {\"word\": \"green\",\n",
        "     \"pos\": \"adjective\",\n",
        "     \"attrs\": {\"color\", \"absolute\"}},\n",
        "    {\"word\": \"apples\",\n",
        "     \"pos\": \"noun\",\n",
        "     \"attrs\": {\"plural\", \"concrete\", \"fruit\"}}\n",
        "]\n",
        "\n",
        "print(sentence[1][\"pos\"])\n",
        "print(sentence[2:4])\n",
        "print(\"fruit\" in sentence[-1][\"attrs\"])"
      ],
      "metadata": {
        "colab": {
          "base_uri": "https://localhost:8080/"
        },
        "id": "PGaWlR2I3322",
        "outputId": "a140a258-deb1-401a-b106-43a281892a0e"
      },
      "execution_count": null,
      "outputs": [
        {
          "output_type": "stream",
          "name": "stdout",
          "text": [
            "verb\n",
            "[{'word': 'green', 'pos': 'adjective', 'attrs': {'color', 'absolute'}}, {'word': 'apples', 'pos': 'noun', 'attrs': {'fruit', 'plural', 'concrete'}}]\n",
            "True\n"
          ]
        }
      ]
    },
    {
      "cell_type": "markdown",
      "source": [
        "### Strings\n",
        "\n",
        "Strings are **lists** of characters. This means:\n",
        "- We can access characters in strings using indices\n",
        "- We can slice strings just like arrays\n",
        "- We can iterate over strings\n"
      ],
      "metadata": {
        "id": "fvkKDhQ05iwl"
      }
    },
    {
      "cell_type": "code",
      "source": [
        "s = \"Hello World!\"\n",
        "\n",
        "last_char = s[-1]\n",
        "# \"!\"\n",
        "\n",
        "hello = s[:5]\n",
        "# \"Hello\"\n",
        "\n",
        "reversed = s[::-1]\n",
        "# \"!dlroW olleH\"\n",
        "\n",
        "for c in s:\n",
        "  print(c.capitalize())\n",
        "# H\n",
        "# E\n",
        "# L\n",
        "# L\n",
        "# O\n",
        "#  \n",
        "# W\n",
        "# O\n",
        "# R\n",
        "# L\n",
        "# D\n",
        "# !\n",
        "\n",
        "def vowel(c):\n",
        "  if c in \"aeiou\":\n",
        "    print(c, \"is a vowel!\")\n",
        "\n",
        "vowel('a')"
      ],
      "metadata": {
        "colab": {
          "base_uri": "https://localhost:8080/"
        },
        "id": "xJwrKyR-P_lW",
        "outputId": "b7c65927-7699-49cd-d42c-9ff5aa5ac8cf"
      },
      "execution_count": null,
      "outputs": [
        {
          "output_type": "stream",
          "name": "stdout",
          "text": [
            "H\n",
            "E\n",
            "L\n",
            "L\n",
            "O\n",
            " \n",
            "W\n",
            "O\n",
            "R\n",
            "L\n",
            "D\n",
            "!\n",
            "a is a vowel!\n"
          ]
        }
      ]
    },
    {
      "cell_type": "markdown",
      "source": [
        "### List Comprehensions"
      ],
      "metadata": {
        "id": "nMxRg9pGkdo2"
      }
    },
    {
      "cell_type": "markdown",
      "source": [
        "A `for` loop is a tried and true method to get stuff done in Python."
      ],
      "metadata": {
        "id": "Try6Uf9ojmMf"
      }
    },
    {
      "cell_type": "code",
      "source": [
        "squares = []\n",
        "for x in range(10):\n",
        "  squares.append(x**2)\n",
        "print(squares)"
      ],
      "metadata": {
        "colab": {
          "base_uri": "https://localhost:8080/"
        },
        "id": "vtH0cbpEkdYa",
        "outputId": "efeb6f43-0d93-4c85-e6c2-777b65fba6e3"
      },
      "execution_count": null,
      "outputs": [
        {
          "output_type": "stream",
          "name": "stdout",
          "text": [
            "[0, 1, 4, 9, 16, 25, 36, 49, 64, 81]\n"
          ]
        }
      ]
    },
    {
      "cell_type": "markdown",
      "source": [
        "But sometimes, you want something fancier."
      ],
      "metadata": {
        "id": "Bte6dbmCjr06"
      }
    },
    {
      "cell_type": "code",
      "source": [
        "squares = [x**2 for x in range(10)]\n",
        "print(squares)"
      ],
      "metadata": {
        "id": "gM9qhfRuloTy"
      },
      "execution_count": null,
      "outputs": []
    },
    {
      "cell_type": "markdown",
      "source": [
        "List comprehensions can help if you need to convert a data structure (most often a list) to another data structure.\n",
        "\n",
        "You can include a condition in a list comprehension. This way, you can filter data:"
      ],
      "metadata": {
        "id": "C-vw43Z4jvis"
      }
    },
    {
      "cell_type": "code",
      "source": [
        "odd_squares = [x**2 for x in range(10) if x % 2 == 1]\n",
        "print(odd_squares)"
      ],
      "metadata": {
        "colab": {
          "base_uri": "https://localhost:8080/"
        },
        "id": "8yv_1zIplreE",
        "outputId": "b2d428f6-d939-4d9c-8036-494ab13b78c3"
      },
      "execution_count": null,
      "outputs": [
        {
          "output_type": "stream",
          "name": "stdout",
          "text": [
            "[1, 9, 25, 49, 81]\n"
          ]
        }
      ]
    },
    {
      "cell_type": "markdown",
      "source": [
        "Sometimes, you have several nested `for` loops."
      ],
      "metadata": {
        "id": "5lW-q_rZki1y"
      }
    },
    {
      "cell_type": "code",
      "source": [
        "sentence = [\"Hello\", \"World\", \"!\"]\n",
        "\n",
        "vowels = []\n",
        "for word in sentence:\n",
        "  for c in word:\n",
        "    if c in \"aeiou\":\n",
        "      vowels.append(c)\n",
        "\n",
        "print(vowels)"
      ],
      "metadata": {
        "colab": {
          "base_uri": "https://localhost:8080/"
        },
        "id": "r6LLB_zcmQBD",
        "outputId": "f9674fa2-4d9a-4d44-ebb6-0a3c3c906e83"
      },
      "execution_count": null,
      "outputs": [
        {
          "output_type": "stream",
          "name": "stdout",
          "text": [
            "['e', 'o', 'o']\n"
          ]
        }
      ]
    },
    {
      "cell_type": "markdown",
      "source": [
        "You can convert them to a list comprehension by using several `for`s.\n",
        "\n",
        "**NB!** Keep in mind that you have to go left to right, from the outside to the inside. `word` should be declared before it's used later on."
      ],
      "metadata": {
        "id": "ZVmnvTKEklma"
      }
    },
    {
      "cell_type": "code",
      "source": [
        "sentence = [\"Hello\", \"World\", \"!\"]\n",
        "\n",
        "vowels = [c for word in sentence for c in word if c in \"aeiou\"]\n",
        "print(vowels)"
      ],
      "metadata": {
        "colab": {
          "base_uri": "https://localhost:8080/"
        },
        "id": "vc9vCtdFmgt0",
        "outputId": "3bf282c3-d0f3-49df-aa0f-978abfefb40f"
      },
      "execution_count": null,
      "outputs": [
        {
          "output_type": "stream",
          "name": "stdout",
          "text": [
            "['e', 'o', 'o']\n"
          ]
        }
      ]
    },
    {
      "cell_type": "markdown",
      "source": [
        "If you mix up the order, your code will either throw an exception or fail silently."
      ],
      "metadata": {
        "id": "zJP3Z8alk4bU"
      }
    },
    {
      "cell_type": "code",
      "source": [
        "sentence = [\"Hello\", \"World\", \"!\"]\n",
        "\n",
        "# wrong order: uses existing `word` variable\n",
        "vowels = [c for c in word for word in sentence if c in \"aeiou\"]\n",
        "print(vowels)"
      ],
      "metadata": {
        "colab": {
          "base_uri": "https://localhost:8080/"
        },
        "id": "Mzqbmsn6m4hd",
        "outputId": "881fd5e0-0840-41d5-d525-cff8dd87ecf5"
      },
      "execution_count": null,
      "outputs": [
        {
          "output_type": "stream",
          "name": "stdout",
          "text": [
            "[]\n",
            "!\n"
          ]
        }
      ]
    },
    {
      "cell_type": "markdown",
      "source": [
        "Sometimes, you write an extremely cool list comprehension and feel great. But then your friend looks at your code and says they can't understand a thing."
      ],
      "metadata": {
        "id": "yzdcLj-BlBrL"
      }
    },
    {
      "cell_type": "code",
      "source": [
        "sentence = \"hello to the world!\"\n",
        "\n",
        "\" \".join([word if word in {\"a\", \"an\", \"the\", \"in\", \"on\", \"up\", \"by\", \"to\"} \n",
        "          else word.capitalize() for word in sentence.split()])"
      ],
      "metadata": {
        "colab": {
          "base_uri": "https://localhost:8080/",
          "height": 35
        },
        "id": "kVXi102MoQ7s",
        "outputId": "0aef1deb-c087-4467-f243-e50f29a12c0e"
      },
      "execution_count": null,
      "outputs": [
        {
          "output_type": "execute_result",
          "data": {
            "text/plain": [
              "'Hello to the World!'"
            ],
            "application/vnd.google.colaboratory.intrinsic+json": {
              "type": "string"
            }
          },
          "metadata": {},
          "execution_count": 25
        }
      ]
    },
    {
      "cell_type": "markdown",
      "source": [
        "If you can't explain your list comprehension in a simple sentence, or if it barely fits on several lines, then it's likely that the logic you're writing is too complicated for a single list comprehension. Even if it compiles.\n",
        "\n",
        "This is likely much more readable:"
      ],
      "metadata": {
        "id": "u8GcLyoJlT-0"
      }
    },
    {
      "cell_type": "code",
      "source": [
        "sentence = \"hello to the world!\"\n",
        "\n",
        "capitalized_words = []\n",
        "for word in sentence.split():\n",
        "  # don't capitalize articles and prepositions\n",
        "  if word in {\"a\", \"an\", \"the\", \"in\", \"on\", \"up\", \"by\", \"to\"}:\n",
        "    capitalized_words.append(word)\n",
        "  else:\n",
        "    capitalized_words.append(word.capitalize())\n",
        "\n",
        "\" \".join(capitalized_words)"
      ],
      "metadata": {
        "colab": {
          "base_uri": "https://localhost:8080/",
          "height": 35
        },
        "id": "2byvqFlCpIcG",
        "outputId": "8e32e5c3-6130-421d-8353-2c4697fcbdac"
      },
      "execution_count": null,
      "outputs": [
        {
          "output_type": "execute_result",
          "data": {
            "text/plain": [
              "'Hello to the World!'"
            ],
            "application/vnd.google.colaboratory.intrinsic+json": {
              "type": "string"
            }
          },
          "metadata": {},
          "execution_count": 26
        }
      ]
    },
    {
      "cell_type": "markdown",
      "source": [
        "List comprehensions aren't only useful for creating different lists. Python has a number of functions that aggregate information in a list in some way.\n",
        "\n",
        "You might have wondered in what situation we could encounter a list of booleans. Here's an example: we can create it via a list comprehension, and then use `all` or `any` on it to check a logical condition."
      ],
      "metadata": {
        "id": "l6DWQiUPmY3y"
      }
    },
    {
      "cell_type": "code",
      "source": [
        "sentence = [\"Hello\", \"World\"]\n",
        "\n",
        "print(all([word.istitle() for word in sentence]))\n",
        "\n",
        "print(any([word.startswith(\"W\") for word in sentence]))"
      ],
      "metadata": {
        "colab": {
          "base_uri": "https://localhost:8080/"
        },
        "id": "KY6_QmNkr7Ht",
        "outputId": "4e74f3da-9a40-4a62-817e-560371267687"
      },
      "execution_count": null,
      "outputs": [
        {
          "output_type": "stream",
          "name": "stdout",
          "text": [
            "True\n",
            "True\n"
          ]
        }
      ]
    },
    {
      "cell_type": "markdown",
      "source": [
        "Remember the bit about how booleans can be numbers? Here's a possible way to use that.\n",
        "\n",
        "If you want to get all the vowels from a sentence, you might do it like this:\n",
        "- Use a condition to filter the sentence and get a list of vowels.\n",
        "- Count how many items it has."
      ],
      "metadata": {
        "id": "VFKJlbzap-Tj"
      }
    },
    {
      "cell_type": "code",
      "source": [
        "sentence = [\"Hello\", \"World\", \"!\"]\n",
        "\n",
        "vowels = [c for word in sentence for c in word if c in \"aeiou\"]\n",
        "print(vowels)\n",
        "len(vowels)"
      ],
      "metadata": {
        "colab": {
          "base_uri": "https://localhost:8080/"
        },
        "id": "wN11EuH7rDBA",
        "outputId": "175350fb-3eb9-402e-f4d8-83f37f73d94a"
      },
      "execution_count": null,
      "outputs": [
        {
          "output_type": "stream",
          "name": "stdout",
          "text": [
            "['e', 'o', 'o']\n"
          ]
        },
        {
          "output_type": "execute_result",
          "data": {
            "text/plain": [
              "3"
            ]
          },
          "metadata": {},
          "execution_count": 4
        }
      ]
    },
    {
      "cell_type": "markdown",
      "source": [
        "However, you could also do this:\n",
        "- Get a list of `True`/`False` values that correspond to whether a character is a vowel.\n",
        "- Call `sum` and get the number of the ones that are `True`."
      ],
      "metadata": {
        "id": "5akG10YCqUn7"
      }
    },
    {
      "cell_type": "code",
      "source": [
        "sentence = [\"Hello\", \"World\", \"!\"]\n",
        "\n",
        "vowels_boolean = [c in \"aeiou\" for word in sentence for c in word]\n",
        "print(vowels_boolean)\n",
        "sum(vowels_boolean)"
      ],
      "metadata": {
        "colab": {
          "base_uri": "https://localhost:8080/"
        },
        "id": "-ni1R16CrQ3W",
        "outputId": "b5e29590-6e5f-4f6a-f877-cbb51ad1cc70"
      },
      "execution_count": null,
      "outputs": [
        {
          "output_type": "stream",
          "name": "stdout",
          "text": [
            "[False, True, False, False, True, False, True, False, False, False, False]\n"
          ]
        },
        {
          "output_type": "execute_result",
          "data": {
            "text/plain": [
              "3"
            ]
          },
          "metadata": {},
          "execution_count": 30
        }
      ]
    },
    {
      "cell_type": "markdown",
      "source": [
        "Both options are good. However, if your list has very large objects, the list of booleans will take significantly less memory."
      ],
      "metadata": {
        "id": "gVX95WXWqe6B"
      }
    },
    {
      "cell_type": "markdown",
      "source": [
        "### Destructuring"
      ],
      "metadata": {
        "id": "arWoAVVpoqmK"
      }
    },
    {
      "cell_type": "markdown",
      "source": [
        "You all know how to do variable assignment (I hope!)."
      ],
      "metadata": {
        "id": "fZaKnpYYqnJ6"
      }
    },
    {
      "cell_type": "code",
      "source": [
        "x = 5\n",
        "y = 10\n",
        "print(x, y)"
      ],
      "metadata": {
        "colab": {
          "base_uri": "https://localhost:8080/"
        },
        "id": "AeFKdH_lotaQ",
        "outputId": "95d1c095-5d4f-48fa-8677-36cb6cbbe030"
      },
      "execution_count": null,
      "outputs": [
        {
          "output_type": "stream",
          "name": "stdout",
          "text": [
            "5 10\n"
          ]
        }
      ]
    },
    {
      "cell_type": "markdown",
      "source": [
        "However, you might not know you can also do it like this:"
      ],
      "metadata": {
        "id": "UWlw8dEYqqB4"
      }
    },
    {
      "cell_type": "code",
      "source": [
        "x, y = 5, 10\n",
        "print(x, y)"
      ],
      "metadata": {
        "colab": {
          "base_uri": "https://localhost:8080/"
        },
        "id": "E2qxe8mxo1dd",
        "outputId": "21b51c7c-900c-4bed-a7ad-9c565a92148a"
      },
      "execution_count": null,
      "outputs": [
        {
          "output_type": "stream",
          "name": "stdout",
          "text": [
            "5 10\n"
          ]
        }
      ]
    },
    {
      "cell_type": "markdown",
      "source": [
        "Under the hood, this expression uses a mechanism called **destructuring**. In Python, you can easily break down a data structure into separate variables.\n",
        "\n",
        "For example, a list:"
      ],
      "metadata": {
        "id": "20gvDt9Wqt2U"
      }
    },
    {
      "cell_type": "code",
      "source": [
        "fives = [5, 10]\n",
        "x, y = fives\n",
        "print(x, y)"
      ],
      "metadata": {
        "colab": {
          "base_uri": "https://localhost:8080/"
        },
        "id": "L4vJAgE0pE3W",
        "outputId": "61fc445a-7060-416c-e49f-2978d37de414"
      },
      "execution_count": null,
      "outputs": [
        {
          "output_type": "stream",
          "name": "stdout",
          "text": [
            "5 10\n"
          ]
        }
      ]
    },
    {
      "cell_type": "markdown",
      "source": [
        "However, if the number of elements doesn't match, we'll get an exception."
      ],
      "metadata": {
        "id": "EhCCjLwJq9n5"
      }
    },
    {
      "cell_type": "code",
      "source": [
        "fives = [5, 10, 15, 20, 25]\n",
        "x, y = fives\n",
        "print(x, y)"
      ],
      "metadata": {
        "colab": {
          "base_uri": "https://localhost:8080/",
          "height": 204
        },
        "id": "RcnQJs1bo5GT",
        "outputId": "d1404337-8f61-4542-d0e7-20225bd66f27"
      },
      "execution_count": null,
      "outputs": [
        {
          "output_type": "error",
          "ename": "ValueError",
          "evalue": "ignored",
          "traceback": [
            "\u001b[0;31m---------------------------------------------------------------------------\u001b[0m",
            "\u001b[0;31mValueError\u001b[0m                                Traceback (most recent call last)",
            "\u001b[0;32m<ipython-input-3-c49698f27fd3>\u001b[0m in \u001b[0;36m<module>\u001b[0;34m()\u001b[0m\n\u001b[1;32m      1\u001b[0m \u001b[0mfives\u001b[0m \u001b[0;34m=\u001b[0m \u001b[0;34m[\u001b[0m\u001b[0;36m5\u001b[0m\u001b[0;34m,\u001b[0m \u001b[0;36m10\u001b[0m\u001b[0;34m,\u001b[0m \u001b[0;36m15\u001b[0m\u001b[0;34m,\u001b[0m \u001b[0;36m20\u001b[0m\u001b[0;34m,\u001b[0m \u001b[0;36m25\u001b[0m\u001b[0;34m]\u001b[0m\u001b[0;34m\u001b[0m\u001b[0;34m\u001b[0m\u001b[0m\n\u001b[0;32m----> 2\u001b[0;31m \u001b[0mx\u001b[0m\u001b[0;34m,\u001b[0m \u001b[0my\u001b[0m \u001b[0;34m=\u001b[0m \u001b[0mfives\u001b[0m\u001b[0;34m\u001b[0m\u001b[0;34m\u001b[0m\u001b[0m\n\u001b[0m\u001b[1;32m      3\u001b[0m \u001b[0mprint\u001b[0m\u001b[0;34m(\u001b[0m\u001b[0mx\u001b[0m\u001b[0;34m,\u001b[0m \u001b[0my\u001b[0m\u001b[0;34m)\u001b[0m\u001b[0;34m\u001b[0m\u001b[0;34m\u001b[0m\u001b[0m\n",
            "\u001b[0;31mValueError\u001b[0m: too many values to unpack (expected 2)"
          ]
        }
      ]
    },
    {
      "cell_type": "markdown",
      "source": [
        "One way to fix it is to use an asterisk. It will collect all the remaining elements into a list."
      ],
      "metadata": {
        "id": "wecUdNX8rBy7"
      }
    },
    {
      "cell_type": "code",
      "source": [
        "fives = [5, 10, 15, 20, 25]\n",
        "x, y, *others = fives\n",
        "print(x, y, others)"
      ],
      "metadata": {
        "colab": {
          "base_uri": "https://localhost:8080/"
        },
        "id": "6Qvy0YZ3pVtv",
        "outputId": "3be03b0b-23a6-42fa-fbf1-5954568afff5"
      },
      "execution_count": null,
      "outputs": [
        {
          "output_type": "stream",
          "name": "stdout",
          "text": [
            "5 10 [15, 20, 25]\n"
          ]
        }
      ]
    },
    {
      "cell_type": "markdown",
      "source": [
        "You can also use it at the start:"
      ],
      "metadata": {
        "id": "wV22kMw6rJMJ"
      }
    },
    {
      "cell_type": "code",
      "source": [
        "sentence = [\"Hello\", \"world\", \"!\"]\n",
        "*start, end = sentence\n",
        "print(start, end)"
      ],
      "metadata": {
        "colab": {
          "base_uri": "https://localhost:8080/"
        },
        "id": "7_Bmoggbph6q",
        "outputId": "8f5455f7-9ee3-4a4f-d08d-d14928d6ee39"
      },
      "execution_count": null,
      "outputs": [
        {
          "output_type": "stream",
          "name": "stdout",
          "text": [
            "['Hello', 'world'] !\n"
          ]
        }
      ]
    },
    {
      "cell_type": "markdown",
      "source": [
        "Or even in the middle:"
      ],
      "metadata": {
        "id": "2EhTyby9rLKG"
      }
    },
    {
      "cell_type": "code",
      "source": [
        "sentence = [\"Hello\", \"my\", \"dear\", \"world\", \"!\"]\n",
        "first, *middle, last = sentence\n",
        "print(first, middle, last)\n",
        "\n",
        "if first.istitle() and last in \"?!.\":\n",
        "  print(\"The sentence is ok!\")"
      ],
      "metadata": {
        "colab": {
          "base_uri": "https://localhost:8080/"
        },
        "id": "z3FAmbAJrTkM",
        "outputId": "0a75ff78-f8db-49eb-94cf-67f80f263c84"
      },
      "execution_count": null,
      "outputs": [
        {
          "output_type": "stream",
          "name": "stdout",
          "text": [
            "Hello ['my', 'dear', 'world'] !\n",
            "The sentence is ok!\n"
          ]
        }
      ]
    },
    {
      "cell_type": "markdown",
      "source": [
        "If you don't need a value, you can use an underscore (`_`) as a variable name. It's not required, but it's the convention in Python."
      ],
      "metadata": {
        "id": "nNFAJOlzrQ9r"
      }
    },
    {
      "cell_type": "code",
      "source": [
        "token = \"apple/NN\"\n",
        "word, _ = token.split(\"/\")\n",
        "print(word)"
      ],
      "metadata": {
        "colab": {
          "base_uri": "https://localhost:8080/"
        },
        "id": "aL47lwqfqBks",
        "outputId": "de755b7b-324d-4ca9-a7ba-fa24ab2440f8"
      },
      "execution_count": null,
      "outputs": [
        {
          "output_type": "stream",
          "name": "stdout",
          "text": [
            "apple\n"
          ]
        }
      ]
    },
    {
      "cell_type": "markdown",
      "source": [
        "Destructuring can also be used in `for` loops. For example, to iterate over dictionaries:"
      ],
      "metadata": {
        "id": "44rSq80Trb_J"
      }
    },
    {
      "cell_type": "code",
      "source": [
        "frequencies = {\n",
        "    \"the\": 500,\n",
        "    \"a\": 400,\n",
        "    \"an\": 50\n",
        "}\n",
        "\n",
        "for key, value in frequencies.items():\n",
        "  print(f'The frequency of \"{key}\" is {value}')"
      ],
      "metadata": {
        "colab": {
          "base_uri": "https://localhost:8080/"
        },
        "id": "tjojqhsqskZp",
        "outputId": "d9d25916-409a-457c-a1c1-a951189d6dea"
      },
      "execution_count": null,
      "outputs": [
        {
          "output_type": "stream",
          "name": "stdout",
          "text": [
            "The frequency of \"the\" is 500\n",
            "The frequency of \"a\" is 400\n",
            "The frequency of \"an\" is 50\n"
          ]
        }
      ]
    },
    {
      "cell_type": "markdown",
      "source": [
        "But also in other cases:"
      ],
      "metadata": {
        "id": "mxKzYF9LrjbT"
      }
    },
    {
      "cell_type": "code",
      "source": [
        "word = \"hello\"\n",
        "\n",
        "for i, c in enumerate(word):\n",
        "  print(f\"'{c}' is the letter number {i + 1}\")"
      ],
      "metadata": {
        "colab": {
          "base_uri": "https://localhost:8080/"
        },
        "id": "UZHq8RkDvl-x",
        "outputId": "b59c8056-bced-45f3-c139-b8b82e65335a"
      },
      "execution_count": null,
      "outputs": [
        {
          "output_type": "stream",
          "name": "stdout",
          "text": [
            "'h' is the letter number 1\n",
            "'e' is the letter number 2\n",
            "'l' is the letter number 3\n",
            "'l' is the letter number 4\n",
            "'o' is the letter number 5\n"
          ]
        }
      ]
    },
    {
      "cell_type": "markdown",
      "source": [
        "### Files"
      ],
      "metadata": {
        "id": "ICG8_NpScr_z"
      }
    },
    {
      "cell_type": "markdown",
      "source": [
        "Hopefully, you already know how to work with files, but let's recap. "
      ],
      "metadata": {
        "id": "_EOMsrqCrsV_"
      }
    },
    {
      "cell_type": "code",
      "source": [
        "# create file.txt\n",
        "!echo -e \"I am a file!\\nNo, really.\" > file.txt"
      ],
      "metadata": {
        "id": "Ax7H8gHWcuUB"
      },
      "execution_count": null,
      "outputs": []
    },
    {
      "cell_type": "markdown",
      "source": [
        "Use `with open(\"filename\") as f:` to open a file. (You can use any variable name but `f` is most often used.)\n",
        "\n",
        "- `open(\"filename\", \"r\")` opens a file for reading (this is the **default** one)\n",
        "- `open(\"filename\", \"w\")` opens a file for writing (it overwrites the initial contents)\n",
        "- `open(\"filename\", \"a\")` open a file for appending (adding at the end)\n",
        "\n",
        "There are other options, but these are the main ones."
      ],
      "metadata": {
        "id": "O1cX5Zj3r0NR"
      }
    },
    {
      "cell_type": "code",
      "source": [
        "with open(\"file.txt\") as f:\n",
        "  lines = f.readlines()\n",
        "  print(lines)\n",
        "\n",
        "with open(\"my-file.txt\", \"w\") as f:\n",
        "  for line in lines:\n",
        "    f.write(\"The file said: \" + line)"
      ],
      "metadata": {
        "colab": {
          "base_uri": "https://localhost:8080/"
        },
        "id": "NOyU-3eJdJus",
        "outputId": "8c562fbd-36ad-41bc-a14b-71bb92bea3a1"
      },
      "execution_count": null,
      "outputs": [
        {
          "output_type": "stream",
          "name": "stdout",
          "text": [
            "['I am a file!\\n', 'No, really.\\n']\n"
          ]
        }
      ]
    },
    {
      "cell_type": "markdown",
      "source": [
        "## General Wisdom"
      ],
      "metadata": {
        "id": "VK1Xa9y6KL4G"
      }
    },
    {
      "cell_type": "markdown",
      "source": [
        "### Code Testing"
      ],
      "metadata": {
        "id": "raHYLdccKRJM"
      }
    },
    {
      "cell_type": "markdown",
      "source": [
        "Code testing is an art, and the margins of this Colab notebook are too narrow to contain it. However, here's some advice:\n",
        "\n",
        "- Automated tests help you improve your code\n",
        "- Use asserts to check that something works as you expect\n",
        "- Write tests for edge cases and unexpected situations, too\n",
        "- TDD (Test-Driven Development): try writing tests before you write the code\n",
        "- Bad tests are better than no tests"
      ],
      "metadata": {
        "id": "9B8ZHIx8shhg"
      }
    },
    {
      "cell_type": "code",
      "source": [
        "def add_five(x):\n",
        "  return x + 4\n",
        "\n",
        "assert add_five(7) == 12"
      ],
      "metadata": {
        "colab": {
          "base_uri": "https://localhost:8080/",
          "height": 204
        },
        "id": "K_BjtCCQF9qY",
        "outputId": "062ef95a-0c45-4c45-dd8c-33c97ac2cc4c"
      },
      "execution_count": null,
      "outputs": [
        {
          "output_type": "error",
          "ename": "AssertionError",
          "evalue": "ignored",
          "traceback": [
            "\u001b[0;31m---------------------------------------------------------------------------\u001b[0m",
            "\u001b[0;31mAssertionError\u001b[0m                            Traceback (most recent call last)",
            "\u001b[0;32m<ipython-input-3-c41e1fdde873>\u001b[0m in \u001b[0;36m<module>\u001b[0;34m()\u001b[0m\n\u001b[1;32m      2\u001b[0m   \u001b[0;32mreturn\u001b[0m \u001b[0mx\u001b[0m \u001b[0;34m+\u001b[0m \u001b[0;36m4\u001b[0m\u001b[0;34m\u001b[0m\u001b[0;34m\u001b[0m\u001b[0m\n\u001b[1;32m      3\u001b[0m \u001b[0;34m\u001b[0m\u001b[0m\n\u001b[0;32m----> 4\u001b[0;31m \u001b[0;32massert\u001b[0m \u001b[0madd_five\u001b[0m\u001b[0;34m(\u001b[0m\u001b[0;36m7\u001b[0m\u001b[0;34m)\u001b[0m \u001b[0;34m==\u001b[0m \u001b[0;36m12\u001b[0m\u001b[0;34m\u001b[0m\u001b[0;34m\u001b[0m\u001b[0m\n\u001b[0m",
            "\u001b[0;31mAssertionError\u001b[0m: "
          ]
        }
      ]
    },
    {
      "cell_type": "markdown",
      "source": [
        "### Code Duplication"
      ],
      "metadata": {
        "id": "xewb1YTjITtM"
      }
    },
    {
      "cell_type": "markdown",
      "source": [
        "- If you find yourself copy-pasting code, it likely should be a function/variable\n",
        "- Duplicate code breeds inconsistency\n",
        "- However, premature optimization is the root of evil"
      ],
      "metadata": {
        "id": "EUASHCeRtDqp"
      }
    },
    {
      "cell_type": "markdown",
      "source": [
        "Original code:"
      ],
      "metadata": {
        "id": "f035v45ZKcQ0"
      }
    },
    {
      "cell_type": "code",
      "source": [
        "def capitalize(token):\n",
        "  if token.split(\"/\")[1] == \"NNP\" or token.split(\"/\")[1] == \"NNPS\":\n",
        "    return token.split(\"/\")[0].capitalize() + \"/\" + token.split(\"/\")[1]\n",
        "  return token\n",
        "\n",
        "capitalize(\"apple/NNPS\")"
      ],
      "metadata": {
        "colab": {
          "base_uri": "https://localhost:8080/",
          "height": 35
        },
        "id": "F2z65o6EIbjp",
        "outputId": "db87fed8-bdd3-4991-fca0-6e1a1279efe3"
      },
      "execution_count": null,
      "outputs": [
        {
          "output_type": "execute_result",
          "data": {
            "text/plain": [
              "'apple/NNS'"
            ],
            "application/vnd.google.colaboratory.intrinsic+json": {
              "type": "string"
            }
          },
          "metadata": {},
          "execution_count": 9
        }
      ]
    },
    {
      "cell_type": "markdown",
      "source": [
        "Improving performance by removing duplicate method calls:"
      ],
      "metadata": {
        "id": "MvwuNkzxKitE"
      }
    },
    {
      "cell_type": "code",
      "source": [
        "def capitalize(token):\n",
        "  word_pos = token.split(\"/\")\n",
        "  if word_pos[1] == \"NNP\" or word_pos[1] == \"NNPS\":\n",
        "    return word_pos[0].capitalize() + \"/\" + word_pos[1]\n",
        "  return token\n",
        "\n",
        "capitalize(\"apple/NNPS\")"
      ],
      "metadata": {
        "colab": {
          "base_uri": "https://localhost:8080/",
          "height": 35
        },
        "id": "lCJnClXaKm2w",
        "outputId": "5239033a-28c6-457f-8608-5809e7c8d893"
      },
      "execution_count": null,
      "outputs": [
        {
          "output_type": "execute_result",
          "data": {
            "text/plain": [
              "'Apple/NNPS'"
            ],
            "application/vnd.google.colaboratory.intrinsic+json": {
              "type": "string"
            }
          },
          "metadata": {},
          "execution_count": 11
        }
      ]
    },
    {
      "cell_type": "markdown",
      "source": [
        "Making variables clearer:"
      ],
      "metadata": {
        "id": "icn3WXixLAvL"
      }
    },
    {
      "cell_type": "code",
      "source": [
        "def capitalize(token):\n",
        "  word, pos = token.split(\"/\")\n",
        "  if pos == \"NNP\" or pos == \"NNPS\":\n",
        "    return word.capitalize() + \"/\" + pos\n",
        "  return token\n",
        "\n",
        "capitalize(\"apple/NNPS\")"
      ],
      "metadata": {
        "colab": {
          "base_uri": "https://localhost:8080/",
          "height": 35
        },
        "id": "y6SJvFbXK9Yg",
        "outputId": "b7cf1c18-16cf-4d63-e4a4-ad42ad96cd35"
      },
      "execution_count": null,
      "outputs": [
        {
          "output_type": "execute_result",
          "data": {
            "text/plain": [
              "'Apple/NNPS'"
            ],
            "application/vnd.google.colaboratory.intrinsic+json": {
              "type": "string"
            }
          },
          "metadata": {},
          "execution_count": 12
        }
      ]
    },
    {
      "cell_type": "markdown",
      "source": [
        "Tidying up:"
      ],
      "metadata": {
        "id": "LEROSjbtMCDh"
      }
    },
    {
      "cell_type": "code",
      "source": [
        "def capitalize(token):\n",
        "  word, pos = token.split(\"/\")\n",
        "  if pos in {\"NNP\", \"NNPS\"}:\n",
        "    return word.capitalize() + \"/\" + pos\n",
        "  return token\n",
        "\n",
        "capitalize(\"apple/NNPS\")"
      ],
      "metadata": {
        "colab": {
          "base_uri": "https://localhost:8080/",
          "height": 35
        },
        "id": "VCB-Zl_iLb8o",
        "outputId": "8193f510-2879-434a-9a42-a1d8db75632b"
      },
      "execution_count": null,
      "outputs": [
        {
          "output_type": "execute_result",
          "data": {
            "text/plain": [
              "'Apple/NNPS'"
            ],
            "application/vnd.google.colaboratory.intrinsic+json": {
              "type": "string"
            }
          },
          "metadata": {},
          "execution_count": 14
        }
      ]
    },
    {
      "cell_type": "markdown",
      "source": [
        "## What We've Learned\n",
        "\n",
        "Let's look at our exam questions once again.\n",
        "\n"
      ],
      "metadata": {
        "id": "osIal74t0sv5"
      }
    },
    {
      "cell_type": "markdown",
      "source": [
        "### 1. An easy task for a skilled student"
      ],
      "metadata": {
        "id": "480uKIVu1HFh"
      }
    },
    {
      "cell_type": "code",
      "execution_count": null,
      "metadata": {
        "colab": {
          "base_uri": "https://localhost:8080/"
        },
        "id": "1iV0uyVRtoqO",
        "outputId": "4397792d-440c-4dcd-bf2c-bd8f963f0a11"
      },
      "outputs": [
        {
          "output_type": "stream",
          "name": "stdout",
          "text": [
            "Overwriting tests/shorten.py\n"
          ]
        }
      ],
      "source": [
        "%%file tests/shorten.py\n",
        "\n",
        "import pytest\n",
        "\n",
        "def shorten(phrase):\n",
        "  # Your code here\n",
        "  pass\n",
        "\n",
        "def test_shorten():\n",
        "  assert shorten(\"the tasks that are easy\") == \"the easy tasks\"\n",
        "  assert shorten(\"a teacher who is amazing\") == \"an amazing teacher\""
      ]
    },
    {
      "cell_type": "markdown",
      "source": [
        "Run this to test the function:"
      ],
      "metadata": {
        "id": "oOP7tRFa1N_O"
      }
    },
    {
      "cell_type": "code",
      "source": [
        "!pytest tests/shorten.py"
      ],
      "metadata": {
        "colab": {
          "base_uri": "https://localhost:8080/"
        },
        "id": "I5BfRHCoxzs2",
        "outputId": "053fae6b-100b-4be8-ec14-11b79123119a"
      },
      "execution_count": null,
      "outputs": [
        {
          "output_type": "stream",
          "name": "stdout",
          "text": [
            "\u001b[1m============================= test session starts ==============================\u001b[0m\n",
            "platform linux -- Python 3.7.13, pytest-3.6.4, py-1.11.0, pluggy-0.7.1\n",
            "rootdir: /content, inifile:\n",
            "plugins: typeguard-2.7.1\n",
            "\u001b[1m\rcollecting 0 items                                                             \u001b[0m\u001b[1m\rcollecting 1 item                                                              \u001b[0m\u001b[1m\rcollected 1 item                                                               \u001b[0m\n",
            "\n",
            "tests/shorten.py F\u001b[36m                                                       [100%]\u001b[0m\n",
            "\n",
            "=================================== FAILURES ===================================\n",
            "\u001b[31m\u001b[1m_________________________________ test_shorten _________________________________\u001b[0m\n",
            "\n",
            "\u001b[1m    def test_shorten():\u001b[0m\n",
            "\u001b[1m>     assert shorten(\"the tasks that are easy\") == \"the easy tasks\"\u001b[0m\n",
            "\u001b[1m\u001b[31mE     AssertionError: assert None == 'the easy tasks'\u001b[0m\n",
            "\u001b[1m\u001b[31mE      +  where None = shorten('the tasks that are easy')\u001b[0m\n",
            "\n",
            "\u001b[1m\u001b[31mtests/shorten.py\u001b[0m:9: AssertionError\n",
            "\u001b[31m\u001b[1m=========================== 1 failed in 0.03 seconds ===========================\u001b[0m\n"
          ]
        }
      ]
    },
    {
      "cell_type": "markdown",
      "source": [
        "## Let's Practice!\n",
        "\n",
        "- [Practice: Volume 0](https://gitlab.com/grammarly-compling-summer-school/summer-school-2022/-/blob/master/classes/4_python/tasks.md)\n",
        "- [Practice: Volume 1](https://gitlab.com/grammarly-compling-summer-school/summer-school-2022/-/blob/master/classes/4_python/tasks.md#volume-1)"
      ],
      "metadata": {
        "id": "yMgJ__7UhXtL"
      }
    }
  ]
}