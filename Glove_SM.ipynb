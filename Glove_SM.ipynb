{
  "nbformat": 4,
  "nbformat_minor": 0,
  "metadata": {
    "colab": {
      "provenance": [],
      "collapsed_sections": [],
      "authorship_tag": "ABX9TyO1/MX9QYZ++oXo3URZx3p1",
      "include_colab_link": true
    },
    "kernelspec": {
      "name": "python3",
      "display_name": "Python 3"
    },
    "language_info": {
      "name": "python"
    }
  },
  "cells": [
    {
      "cell_type": "markdown",
      "metadata": {
        "id": "view-in-github",
        "colab_type": "text"
      },
      "source": [
        "<a href=\"https://colab.research.google.com/github/DaryaTereshchenko/DaryaTereshchenko/blob/main/Glove_SM.ipynb\" target=\"_parent\"><img src=\"https://colab.research.google.com/assets/colab-badge.svg\" alt=\"Open In Colab\"/></a>"
      ]
    },
    {
      "cell_type": "code",
      "execution_count": 1,
      "metadata": {
        "colab": {
          "base_uri": "https://localhost:8080/",
          "height": 17
        },
        "id": "APaPdAXVAB5D",
        "outputId": "e6acdbc2-1539-4adf-a861-ee08beacec61"
      },
      "outputs": [
        {
          "output_type": "display_data",
          "data": {
            "text/html": [
              "        <script type=\"text/javascript\">\n",
              "        window.PlotlyConfig = {MathJaxConfig: 'local'};\n",
              "        if (window.MathJax) {MathJax.Hub.Config({SVG: {font: \"STIX-Web\"}});}\n",
              "        if (typeof require !== 'undefined') {\n",
              "        require.undef(\"plotly\");\n",
              "        requirejs.config({\n",
              "            paths: {\n",
              "                'plotly': ['https://cdn.plot.ly/plotly-2.8.3.min']\n",
              "            }\n",
              "        });\n",
              "        require(['plotly'], function(Plotly) {\n",
              "            window._Plotly = Plotly;\n",
              "        });\n",
              "        }\n",
              "        </script>\n",
              "        "
            ]
          },
          "metadata": {}
        }
      ],
      "source": [
        "from keras.preprocessing.text import Tokenizer\n",
        "from keras_preprocessing.sequence import pad_sequences\n",
        "from keras.models import Sequential\n",
        "from tensorflow.keras.layers import Embedding, LSTM, Dense, Dropout\n",
        "from keras.optimizers import Adam\n",
        "from keras.initializers import Constant\n",
        "\n",
        "## Plotly\n",
        "import plotly.offline as py\n",
        "import plotly.graph_objs as go\n",
        "py.init_notebook_mode(connected=True)"
      ]
    },
    {
      "cell_type": "code",
      "source": [
        "import nltk\n",
        "from nltk import word_tokenize\n",
        "import string\n",
        "import numpy as np\n",
        "import pandas as pd\n",
        "from nltk.corpus import stopwords\n"
      ],
      "metadata": {
        "id": "Rddih9CSAD9U"
      },
      "execution_count": 2,
      "outputs": []
    },
    {
      "cell_type": "code",
      "source": [
        "data = pd.read_csv(\"binary_ethos.csv\", sep=\",\", encoding=\"utf-8\")\n",
        "data"
      ],
      "metadata": {
        "colab": {
          "base_uri": "https://localhost:8080/",
          "height": 424
        },
        "id": "i9lteH44AFz3",
        "outputId": "03c7101f-ffcd-4e19-e8ef-89fa80a68551"
      },
      "execution_count": 123,
      "outputs": [
        {
          "output_type": "execute_result",
          "data": {
            "text/plain": [
              "                                                  text  lable\n",
              "0            You should know women's sports are a joke      1\n",
              "1       You look like Sloth with deeper Downs syndrome      1\n",
              "2    You look like Russian and speak like Indian. B...      1\n",
              "3                 Women deserve to be abused, I guess.      1\n",
              "4    Women are made for making babies and cooking d...      1\n",
              "..                                                 ...    ...\n",
              "983  A man' s chance of getting cancer is 44 and 23...      0\n",
              "984         2 comments 4 likes and no views gg youtube      0\n",
              "985     ' Nah cut it off Im sure I won' t regret it '       0\n",
              "986   Oh and NIki pronounced mademoiselle Maupin wa...      0\n",
              "987   All values, unless otherwise stated, are in U...      0\n",
              "\n",
              "[988 rows x 2 columns]"
            ],
            "text/html": [
              "\n",
              "  <div id=\"df-3870e244-6a6c-4152-a80f-bd61e1b1ae55\">\n",
              "    <div class=\"colab-df-container\">\n",
              "      <div>\n",
              "<style scoped>\n",
              "    .dataframe tbody tr th:only-of-type {\n",
              "        vertical-align: middle;\n",
              "    }\n",
              "\n",
              "    .dataframe tbody tr th {\n",
              "        vertical-align: top;\n",
              "    }\n",
              "\n",
              "    .dataframe thead th {\n",
              "        text-align: right;\n",
              "    }\n",
              "</style>\n",
              "<table border=\"1\" class=\"dataframe\">\n",
              "  <thead>\n",
              "    <tr style=\"text-align: right;\">\n",
              "      <th></th>\n",
              "      <th>text</th>\n",
              "      <th>lable</th>\n",
              "    </tr>\n",
              "  </thead>\n",
              "  <tbody>\n",
              "    <tr>\n",
              "      <th>0</th>\n",
              "      <td>You should know women's sports are a joke</td>\n",
              "      <td>1</td>\n",
              "    </tr>\n",
              "    <tr>\n",
              "      <th>1</th>\n",
              "      <td>You look like Sloth with deeper Downs syndrome</td>\n",
              "      <td>1</td>\n",
              "    </tr>\n",
              "    <tr>\n",
              "      <th>2</th>\n",
              "      <td>You look like Russian and speak like Indian. B...</td>\n",
              "      <td>1</td>\n",
              "    </tr>\n",
              "    <tr>\n",
              "      <th>3</th>\n",
              "      <td>Women deserve to be abused, I guess.</td>\n",
              "      <td>1</td>\n",
              "    </tr>\n",
              "    <tr>\n",
              "      <th>4</th>\n",
              "      <td>Women are made for making babies and cooking d...</td>\n",
              "      <td>1</td>\n",
              "    </tr>\n",
              "    <tr>\n",
              "      <th>...</th>\n",
              "      <td>...</td>\n",
              "      <td>...</td>\n",
              "    </tr>\n",
              "    <tr>\n",
              "      <th>983</th>\n",
              "      <td>A man' s chance of getting cancer is 44 and 23...</td>\n",
              "      <td>0</td>\n",
              "    </tr>\n",
              "    <tr>\n",
              "      <th>984</th>\n",
              "      <td>2 comments 4 likes and no views gg youtube</td>\n",
              "      <td>0</td>\n",
              "    </tr>\n",
              "    <tr>\n",
              "      <th>985</th>\n",
              "      <td>' Nah cut it off Im sure I won' t regret it '</td>\n",
              "      <td>0</td>\n",
              "    </tr>\n",
              "    <tr>\n",
              "      <th>986</th>\n",
              "      <td>Oh and NIki pronounced mademoiselle Maupin wa...</td>\n",
              "      <td>0</td>\n",
              "    </tr>\n",
              "    <tr>\n",
              "      <th>987</th>\n",
              "      <td>All values, unless otherwise stated, are in U...</td>\n",
              "      <td>0</td>\n",
              "    </tr>\n",
              "  </tbody>\n",
              "</table>\n",
              "<p>988 rows × 2 columns</p>\n",
              "</div>\n",
              "      <button class=\"colab-df-convert\" onclick=\"convertToInteractive('df-3870e244-6a6c-4152-a80f-bd61e1b1ae55')\"\n",
              "              title=\"Convert this dataframe to an interactive table.\"\n",
              "              style=\"display:none;\">\n",
              "        \n",
              "  <svg xmlns=\"http://www.w3.org/2000/svg\" height=\"24px\"viewBox=\"0 0 24 24\"\n",
              "       width=\"24px\">\n",
              "    <path d=\"M0 0h24v24H0V0z\" fill=\"none\"/>\n",
              "    <path d=\"M18.56 5.44l.94 2.06.94-2.06 2.06-.94-2.06-.94-.94-2.06-.94 2.06-2.06.94zm-11 1L8.5 8.5l.94-2.06 2.06-.94-2.06-.94L8.5 2.5l-.94 2.06-2.06.94zm10 10l.94 2.06.94-2.06 2.06-.94-2.06-.94-.94-2.06-.94 2.06-2.06.94z\"/><path d=\"M17.41 7.96l-1.37-1.37c-.4-.4-.92-.59-1.43-.59-.52 0-1.04.2-1.43.59L10.3 9.45l-7.72 7.72c-.78.78-.78 2.05 0 2.83L4 21.41c.39.39.9.59 1.41.59.51 0 1.02-.2 1.41-.59l7.78-7.78 2.81-2.81c.8-.78.8-2.07 0-2.86zM5.41 20L4 18.59l7.72-7.72 1.47 1.35L5.41 20z\"/>\n",
              "  </svg>\n",
              "      </button>\n",
              "      \n",
              "  <style>\n",
              "    .colab-df-container {\n",
              "      display:flex;\n",
              "      flex-wrap:wrap;\n",
              "      gap: 12px;\n",
              "    }\n",
              "\n",
              "    .colab-df-convert {\n",
              "      background-color: #E8F0FE;\n",
              "      border: none;\n",
              "      border-radius: 50%;\n",
              "      cursor: pointer;\n",
              "      display: none;\n",
              "      fill: #1967D2;\n",
              "      height: 32px;\n",
              "      padding: 0 0 0 0;\n",
              "      width: 32px;\n",
              "    }\n",
              "\n",
              "    .colab-df-convert:hover {\n",
              "      background-color: #E2EBFA;\n",
              "      box-shadow: 0px 1px 2px rgba(60, 64, 67, 0.3), 0px 1px 3px 1px rgba(60, 64, 67, 0.15);\n",
              "      fill: #174EA6;\n",
              "    }\n",
              "\n",
              "    [theme=dark] .colab-df-convert {\n",
              "      background-color: #3B4455;\n",
              "      fill: #D2E3FC;\n",
              "    }\n",
              "\n",
              "    [theme=dark] .colab-df-convert:hover {\n",
              "      background-color: #434B5C;\n",
              "      box-shadow: 0px 1px 3px 1px rgba(0, 0, 0, 0.15);\n",
              "      filter: drop-shadow(0px 1px 2px rgba(0, 0, 0, 0.3));\n",
              "      fill: #FFFFFF;\n",
              "    }\n",
              "  </style>\n",
              "\n",
              "      <script>\n",
              "        const buttonEl =\n",
              "          document.querySelector('#df-3870e244-6a6c-4152-a80f-bd61e1b1ae55 button.colab-df-convert');\n",
              "        buttonEl.style.display =\n",
              "          google.colab.kernel.accessAllowed ? 'block' : 'none';\n",
              "\n",
              "        async function convertToInteractive(key) {\n",
              "          const element = document.querySelector('#df-3870e244-6a6c-4152-a80f-bd61e1b1ae55');\n",
              "          const dataTable =\n",
              "            await google.colab.kernel.invokeFunction('convertToInteractive',\n",
              "                                                     [key], {});\n",
              "          if (!dataTable) return;\n",
              "\n",
              "          const docLinkHtml = 'Like what you see? Visit the ' +\n",
              "            '<a target=\"_blank\" href=https://colab.research.google.com/notebooks/data_table.ipynb>data table notebook</a>'\n",
              "            + ' to learn more about interactive tables.';\n",
              "          element.innerHTML = '';\n",
              "          dataTable['output_type'] = 'display_data';\n",
              "          await google.colab.output.renderOutput(dataTable, element);\n",
              "          const docLink = document.createElement('div');\n",
              "          docLink.innerHTML = docLinkHtml;\n",
              "          element.appendChild(docLink);\n",
              "        }\n",
              "      </script>\n",
              "    </div>\n",
              "  </div>\n",
              "  "
            ]
          },
          "metadata": {},
          "execution_count": 123
        }
      ]
    },
    {
      "cell_type": "code",
      "source": [
        "nltk.download('stopwords')\n",
        "nltk.download('punkt')\n",
        "import regex as re"
      ],
      "metadata": {
        "colab": {
          "base_uri": "https://localhost:8080/"
        },
        "id": "7JO08JkoAR4Y",
        "outputId": "1cb70d7f-05eb-4459-90f1-62c2f1dbf403"
      },
      "execution_count": 124,
      "outputs": [
        {
          "output_type": "stream",
          "name": "stderr",
          "text": [
            "[nltk_data] Downloading package stopwords to /root/nltk_data...\n",
            "[nltk_data]   Package stopwords is already up-to-date!\n",
            "[nltk_data] Downloading package punkt to /root/nltk_data...\n",
            "[nltk_data]   Package punkt is already up-to-date!\n"
          ]
        }
      ]
    },
    {
      "cell_type": "code",
      "source": [
        "def clean_text(line):\n",
        "  stops = set(stopwords.words(\"english\"))\n",
        "  processed_line = line.lower()\n",
        "  words = [word for word in word_tokenize(processed_line)]\n",
        "  processed_line = [word for word in words if word not in stops and word not in set(string.punctuation)]\n",
        "  text = \" \".join(processed_line)\n",
        "  return text"
      ],
      "metadata": {
        "id": "NF5Kd1nAAUPu"
      },
      "execution_count": 125,
      "outputs": []
    },
    {
      "cell_type": "code",
      "source": [
        "data['text'] = data['text'].map(lambda x: clean_text(x))\n",
        "sentence_list = [sent for sent in data.text]"
      ],
      "metadata": {
        "id": "Ex_BgOIPA1uf"
      },
      "execution_count": 126,
      "outputs": []
    },
    {
      "cell_type": "code",
      "source": [
        "hate_speech = np.load('binary_hate.npy')\n",
        "neutral = np.load('binary_neutral.npy')\n",
        "df_hate = pd.DataFrame(hate_speech)\n",
        "df_neutral = pd.DataFrame(neutral)\n",
        "df_hate[\"lable\"] = 1\n",
        "df_neutral[\"lable\"] = 0\n",
        "frames = [df_hate, df_neutral]\n",
        "df_sm = pd.concat(frames)\n"
      ],
      "metadata": {
        "colab": {
          "base_uri": "https://localhost:8080/"
        },
        "id": "1TAL74ihKcwf",
        "outputId": "bc12c118-0900-472d-9e00-879c251751d6"
      },
      "execution_count": 188,
      "outputs": [
        {
          "output_type": "stream",
          "name": "stdout",
          "text": [
            "0      1\n",
            "1      1\n",
            "2      1\n",
            "3      1\n",
            "4      1\n",
            "      ..\n",
            "551    0\n",
            "552    0\n",
            "553    0\n",
            "554    0\n",
            "555    0\n",
            "Name: lable, Length: 988, dtype: int64\n"
          ]
        }
      ]
    },
    {
      "cell_type": "code",
      "source": [
        "from sklearn.preprocessing import StandardScaler \n",
        "from sklearn.decomposition import PCA \n",
        "\n",
        "a = df_sm.drop(\"lable\", axis=1)\n",
        "b = df_sm[\"lable\"]\n",
        "print(a.shape)\n",
        "print(b)\n",
        "\n",
        "scalar = StandardScaler()\n",
        "scaled_data = pd.DataFrame(scalar.fit_transform(a))\n",
        "\n",
        "pca = PCA(n_components = 20)\n",
        "pca.fit(scaled_data)\n",
        "\n",
        "data_pca = pca.transform(scaled_data)\n",
        "data_pca = pd.DataFrame(data_pca,columns=range(1,21))\n",
        "data_pca"
      ],
      "metadata": {
        "colab": {
          "base_uri": "https://localhost:8080/",
          "height": 713
        },
        "id": "mNM-ca-_cIMb",
        "outputId": "4e345b34-550e-4a15-eb49-0bb20a2313aa"
      },
      "execution_count": 203,
      "outputs": [
        {
          "output_type": "stream",
          "name": "stdout",
          "text": [
            "(988, 146)\n",
            "0      1\n",
            "1      1\n",
            "2      1\n",
            "3      1\n",
            "4      1\n",
            "      ..\n",
            "551    0\n",
            "552    0\n",
            "553    0\n",
            "554    0\n",
            "555    0\n",
            "Name: lable, Length: 988, dtype: int64\n"
          ]
        },
        {
          "output_type": "execute_result",
          "data": {
            "text/plain": [
              "           1         2         3         4         5         6         7   \\\n",
              "0    0.118893 -3.337597  1.242876  0.525947 -0.322129 -0.238853  0.229953   \n",
              "1   -0.654836 -0.498210 -1.884412  0.383380 -1.079148 -0.628947  1.945417   \n",
              "2   -4.532962 -3.593741  0.721561 -1.814482 -0.232120 -0.229494  0.104728   \n",
              "3   -3.465822 -5.034046  3.045930 -4.874498  1.098341 -2.590873  0.362008   \n",
              "4    1.447168 -1.488463  0.140200 -1.921146  0.702730 -0.537799 -0.379474   \n",
              "..        ...       ...       ...       ...       ...       ...       ...   \n",
              "983 -3.000074  1.208956  1.812675  1.974232 -0.983995  0.702663  0.500431   \n",
              "984 -0.514833  0.715855  0.571782  1.912231  0.179664 -1.139923 -1.100307   \n",
              "985 -0.720634 -1.381572 -0.572326  1.658019 -0.815944 -0.809736 -0.289203   \n",
              "986 -1.459264  0.593266  0.014472 -0.386168 -0.504546 -1.350015  2.151809   \n",
              "987  0.337096 -2.234174 -2.413636  0.602919 -0.338078 -0.399126 -0.884927   \n",
              "\n",
              "           8         9         10        11        12        13        14  \\\n",
              "0   -0.022283  1.035923 -3.390623 -1.282268 -3.152543 -0.766684 -1.086049   \n",
              "1   -1.584645 -0.296528 -3.619739 -2.923621 -0.658833 -1.317798 -0.262969   \n",
              "2    0.621263  2.384702 -1.460805  0.348370  0.666876  0.137378 -0.122976   \n",
              "3   -2.674609  7.115539  1.295157 -1.300402  1.387906  3.085927 -1.888200   \n",
              "4    1.415163 -1.471560  1.839179 -0.576248 -0.453152  0.577501  0.728383   \n",
              "..        ...       ...       ...       ...       ...       ...       ...   \n",
              "983 -0.224141 -0.311002  0.983702 -0.503587 -0.228516  0.900380 -0.516360   \n",
              "984 -0.581572 -0.942351 -1.424691  1.150662  0.302514 -0.274250 -1.421620   \n",
              "985  0.990436  0.398488 -1.287608  1.282234  0.245131 -1.249222  0.586833   \n",
              "986 -0.158362  0.601559  0.075180 -1.055507 -1.148699  2.476109 -0.749575   \n",
              "987  0.763357 -0.156257  0.968617  0.118511  0.093274 -0.332264  0.532698   \n",
              "\n",
              "           15        16        17        18        19        20  \n",
              "0   -2.513620 -0.284934  0.969152 -0.835279 -0.644886  0.716894  \n",
              "1    1.591905  2.323392  0.317624 -1.107702 -1.429408 -0.362574  \n",
              "2   -0.310728  0.584577 -0.458851 -0.604747  0.044569  0.239099  \n",
              "3    1.605104  6.741614 -2.570820  8.540095  1.625512  4.092541  \n",
              "4    1.232793 -3.191101 -1.093300 -0.913910 -2.689953  3.481081  \n",
              "..        ...       ...       ...       ...       ...       ...  \n",
              "983  1.828013 -0.184617 -0.815669  0.918631 -0.242259 -0.218998  \n",
              "984 -1.999726  0.175933  1.573092  1.960757  1.477928 -1.039002  \n",
              "985 -0.743295  0.924146  0.566251  0.858731  2.558601 -1.152880  \n",
              "986  0.436474 -0.619618 -0.712265 -0.612303 -1.116343 -1.553222  \n",
              "987  0.684259 -0.372196 -0.044069 -0.558834 -0.213045 -0.327398  \n",
              "\n",
              "[988 rows x 20 columns]"
            ],
            "text/html": [
              "\n",
              "  <div id=\"df-cc88e66d-d999-4cb4-a62a-8a3868978334\">\n",
              "    <div class=\"colab-df-container\">\n",
              "      <div>\n",
              "<style scoped>\n",
              "    .dataframe tbody tr th:only-of-type {\n",
              "        vertical-align: middle;\n",
              "    }\n",
              "\n",
              "    .dataframe tbody tr th {\n",
              "        vertical-align: top;\n",
              "    }\n",
              "\n",
              "    .dataframe thead th {\n",
              "        text-align: right;\n",
              "    }\n",
              "</style>\n",
              "<table border=\"1\" class=\"dataframe\">\n",
              "  <thead>\n",
              "    <tr style=\"text-align: right;\">\n",
              "      <th></th>\n",
              "      <th>1</th>\n",
              "      <th>2</th>\n",
              "      <th>3</th>\n",
              "      <th>4</th>\n",
              "      <th>5</th>\n",
              "      <th>6</th>\n",
              "      <th>7</th>\n",
              "      <th>8</th>\n",
              "      <th>9</th>\n",
              "      <th>10</th>\n",
              "      <th>11</th>\n",
              "      <th>12</th>\n",
              "      <th>13</th>\n",
              "      <th>14</th>\n",
              "      <th>15</th>\n",
              "      <th>16</th>\n",
              "      <th>17</th>\n",
              "      <th>18</th>\n",
              "      <th>19</th>\n",
              "      <th>20</th>\n",
              "    </tr>\n",
              "  </thead>\n",
              "  <tbody>\n",
              "    <tr>\n",
              "      <th>0</th>\n",
              "      <td>0.118893</td>\n",
              "      <td>-3.337597</td>\n",
              "      <td>1.242876</td>\n",
              "      <td>0.525947</td>\n",
              "      <td>-0.322129</td>\n",
              "      <td>-0.238853</td>\n",
              "      <td>0.229953</td>\n",
              "      <td>-0.022283</td>\n",
              "      <td>1.035923</td>\n",
              "      <td>-3.390623</td>\n",
              "      <td>-1.282268</td>\n",
              "      <td>-3.152543</td>\n",
              "      <td>-0.766684</td>\n",
              "      <td>-1.086049</td>\n",
              "      <td>-2.513620</td>\n",
              "      <td>-0.284934</td>\n",
              "      <td>0.969152</td>\n",
              "      <td>-0.835279</td>\n",
              "      <td>-0.644886</td>\n",
              "      <td>0.716894</td>\n",
              "    </tr>\n",
              "    <tr>\n",
              "      <th>1</th>\n",
              "      <td>-0.654836</td>\n",
              "      <td>-0.498210</td>\n",
              "      <td>-1.884412</td>\n",
              "      <td>0.383380</td>\n",
              "      <td>-1.079148</td>\n",
              "      <td>-0.628947</td>\n",
              "      <td>1.945417</td>\n",
              "      <td>-1.584645</td>\n",
              "      <td>-0.296528</td>\n",
              "      <td>-3.619739</td>\n",
              "      <td>-2.923621</td>\n",
              "      <td>-0.658833</td>\n",
              "      <td>-1.317798</td>\n",
              "      <td>-0.262969</td>\n",
              "      <td>1.591905</td>\n",
              "      <td>2.323392</td>\n",
              "      <td>0.317624</td>\n",
              "      <td>-1.107702</td>\n",
              "      <td>-1.429408</td>\n",
              "      <td>-0.362574</td>\n",
              "    </tr>\n",
              "    <tr>\n",
              "      <th>2</th>\n",
              "      <td>-4.532962</td>\n",
              "      <td>-3.593741</td>\n",
              "      <td>0.721561</td>\n",
              "      <td>-1.814482</td>\n",
              "      <td>-0.232120</td>\n",
              "      <td>-0.229494</td>\n",
              "      <td>0.104728</td>\n",
              "      <td>0.621263</td>\n",
              "      <td>2.384702</td>\n",
              "      <td>-1.460805</td>\n",
              "      <td>0.348370</td>\n",
              "      <td>0.666876</td>\n",
              "      <td>0.137378</td>\n",
              "      <td>-0.122976</td>\n",
              "      <td>-0.310728</td>\n",
              "      <td>0.584577</td>\n",
              "      <td>-0.458851</td>\n",
              "      <td>-0.604747</td>\n",
              "      <td>0.044569</td>\n",
              "      <td>0.239099</td>\n",
              "    </tr>\n",
              "    <tr>\n",
              "      <th>3</th>\n",
              "      <td>-3.465822</td>\n",
              "      <td>-5.034046</td>\n",
              "      <td>3.045930</td>\n",
              "      <td>-4.874498</td>\n",
              "      <td>1.098341</td>\n",
              "      <td>-2.590873</td>\n",
              "      <td>0.362008</td>\n",
              "      <td>-2.674609</td>\n",
              "      <td>7.115539</td>\n",
              "      <td>1.295157</td>\n",
              "      <td>-1.300402</td>\n",
              "      <td>1.387906</td>\n",
              "      <td>3.085927</td>\n",
              "      <td>-1.888200</td>\n",
              "      <td>1.605104</td>\n",
              "      <td>6.741614</td>\n",
              "      <td>-2.570820</td>\n",
              "      <td>8.540095</td>\n",
              "      <td>1.625512</td>\n",
              "      <td>4.092541</td>\n",
              "    </tr>\n",
              "    <tr>\n",
              "      <th>4</th>\n",
              "      <td>1.447168</td>\n",
              "      <td>-1.488463</td>\n",
              "      <td>0.140200</td>\n",
              "      <td>-1.921146</td>\n",
              "      <td>0.702730</td>\n",
              "      <td>-0.537799</td>\n",
              "      <td>-0.379474</td>\n",
              "      <td>1.415163</td>\n",
              "      <td>-1.471560</td>\n",
              "      <td>1.839179</td>\n",
              "      <td>-0.576248</td>\n",
              "      <td>-0.453152</td>\n",
              "      <td>0.577501</td>\n",
              "      <td>0.728383</td>\n",
              "      <td>1.232793</td>\n",
              "      <td>-3.191101</td>\n",
              "      <td>-1.093300</td>\n",
              "      <td>-0.913910</td>\n",
              "      <td>-2.689953</td>\n",
              "      <td>3.481081</td>\n",
              "    </tr>\n",
              "    <tr>\n",
              "      <th>...</th>\n",
              "      <td>...</td>\n",
              "      <td>...</td>\n",
              "      <td>...</td>\n",
              "      <td>...</td>\n",
              "      <td>...</td>\n",
              "      <td>...</td>\n",
              "      <td>...</td>\n",
              "      <td>...</td>\n",
              "      <td>...</td>\n",
              "      <td>...</td>\n",
              "      <td>...</td>\n",
              "      <td>...</td>\n",
              "      <td>...</td>\n",
              "      <td>...</td>\n",
              "      <td>...</td>\n",
              "      <td>...</td>\n",
              "      <td>...</td>\n",
              "      <td>...</td>\n",
              "      <td>...</td>\n",
              "      <td>...</td>\n",
              "    </tr>\n",
              "    <tr>\n",
              "      <th>983</th>\n",
              "      <td>-3.000074</td>\n",
              "      <td>1.208956</td>\n",
              "      <td>1.812675</td>\n",
              "      <td>1.974232</td>\n",
              "      <td>-0.983995</td>\n",
              "      <td>0.702663</td>\n",
              "      <td>0.500431</td>\n",
              "      <td>-0.224141</td>\n",
              "      <td>-0.311002</td>\n",
              "      <td>0.983702</td>\n",
              "      <td>-0.503587</td>\n",
              "      <td>-0.228516</td>\n",
              "      <td>0.900380</td>\n",
              "      <td>-0.516360</td>\n",
              "      <td>1.828013</td>\n",
              "      <td>-0.184617</td>\n",
              "      <td>-0.815669</td>\n",
              "      <td>0.918631</td>\n",
              "      <td>-0.242259</td>\n",
              "      <td>-0.218998</td>\n",
              "    </tr>\n",
              "    <tr>\n",
              "      <th>984</th>\n",
              "      <td>-0.514833</td>\n",
              "      <td>0.715855</td>\n",
              "      <td>0.571782</td>\n",
              "      <td>1.912231</td>\n",
              "      <td>0.179664</td>\n",
              "      <td>-1.139923</td>\n",
              "      <td>-1.100307</td>\n",
              "      <td>-0.581572</td>\n",
              "      <td>-0.942351</td>\n",
              "      <td>-1.424691</td>\n",
              "      <td>1.150662</td>\n",
              "      <td>0.302514</td>\n",
              "      <td>-0.274250</td>\n",
              "      <td>-1.421620</td>\n",
              "      <td>-1.999726</td>\n",
              "      <td>0.175933</td>\n",
              "      <td>1.573092</td>\n",
              "      <td>1.960757</td>\n",
              "      <td>1.477928</td>\n",
              "      <td>-1.039002</td>\n",
              "    </tr>\n",
              "    <tr>\n",
              "      <th>985</th>\n",
              "      <td>-0.720634</td>\n",
              "      <td>-1.381572</td>\n",
              "      <td>-0.572326</td>\n",
              "      <td>1.658019</td>\n",
              "      <td>-0.815944</td>\n",
              "      <td>-0.809736</td>\n",
              "      <td>-0.289203</td>\n",
              "      <td>0.990436</td>\n",
              "      <td>0.398488</td>\n",
              "      <td>-1.287608</td>\n",
              "      <td>1.282234</td>\n",
              "      <td>0.245131</td>\n",
              "      <td>-1.249222</td>\n",
              "      <td>0.586833</td>\n",
              "      <td>-0.743295</td>\n",
              "      <td>0.924146</td>\n",
              "      <td>0.566251</td>\n",
              "      <td>0.858731</td>\n",
              "      <td>2.558601</td>\n",
              "      <td>-1.152880</td>\n",
              "    </tr>\n",
              "    <tr>\n",
              "      <th>986</th>\n",
              "      <td>-1.459264</td>\n",
              "      <td>0.593266</td>\n",
              "      <td>0.014472</td>\n",
              "      <td>-0.386168</td>\n",
              "      <td>-0.504546</td>\n",
              "      <td>-1.350015</td>\n",
              "      <td>2.151809</td>\n",
              "      <td>-0.158362</td>\n",
              "      <td>0.601559</td>\n",
              "      <td>0.075180</td>\n",
              "      <td>-1.055507</td>\n",
              "      <td>-1.148699</td>\n",
              "      <td>2.476109</td>\n",
              "      <td>-0.749575</td>\n",
              "      <td>0.436474</td>\n",
              "      <td>-0.619618</td>\n",
              "      <td>-0.712265</td>\n",
              "      <td>-0.612303</td>\n",
              "      <td>-1.116343</td>\n",
              "      <td>-1.553222</td>\n",
              "    </tr>\n",
              "    <tr>\n",
              "      <th>987</th>\n",
              "      <td>0.337096</td>\n",
              "      <td>-2.234174</td>\n",
              "      <td>-2.413636</td>\n",
              "      <td>0.602919</td>\n",
              "      <td>-0.338078</td>\n",
              "      <td>-0.399126</td>\n",
              "      <td>-0.884927</td>\n",
              "      <td>0.763357</td>\n",
              "      <td>-0.156257</td>\n",
              "      <td>0.968617</td>\n",
              "      <td>0.118511</td>\n",
              "      <td>0.093274</td>\n",
              "      <td>-0.332264</td>\n",
              "      <td>0.532698</td>\n",
              "      <td>0.684259</td>\n",
              "      <td>-0.372196</td>\n",
              "      <td>-0.044069</td>\n",
              "      <td>-0.558834</td>\n",
              "      <td>-0.213045</td>\n",
              "      <td>-0.327398</td>\n",
              "    </tr>\n",
              "  </tbody>\n",
              "</table>\n",
              "<p>988 rows × 20 columns</p>\n",
              "</div>\n",
              "      <button class=\"colab-df-convert\" onclick=\"convertToInteractive('df-cc88e66d-d999-4cb4-a62a-8a3868978334')\"\n",
              "              title=\"Convert this dataframe to an interactive table.\"\n",
              "              style=\"display:none;\">\n",
              "        \n",
              "  <svg xmlns=\"http://www.w3.org/2000/svg\" height=\"24px\"viewBox=\"0 0 24 24\"\n",
              "       width=\"24px\">\n",
              "    <path d=\"M0 0h24v24H0V0z\" fill=\"none\"/>\n",
              "    <path d=\"M18.56 5.44l.94 2.06.94-2.06 2.06-.94-2.06-.94-.94-2.06-.94 2.06-2.06.94zm-11 1L8.5 8.5l.94-2.06 2.06-.94-2.06-.94L8.5 2.5l-.94 2.06-2.06.94zm10 10l.94 2.06.94-2.06 2.06-.94-2.06-.94-.94-2.06-.94 2.06-2.06.94z\"/><path d=\"M17.41 7.96l-1.37-1.37c-.4-.4-.92-.59-1.43-.59-.52 0-1.04.2-1.43.59L10.3 9.45l-7.72 7.72c-.78.78-.78 2.05 0 2.83L4 21.41c.39.39.9.59 1.41.59.51 0 1.02-.2 1.41-.59l7.78-7.78 2.81-2.81c.8-.78.8-2.07 0-2.86zM5.41 20L4 18.59l7.72-7.72 1.47 1.35L5.41 20z\"/>\n",
              "  </svg>\n",
              "      </button>\n",
              "      \n",
              "  <style>\n",
              "    .colab-df-container {\n",
              "      display:flex;\n",
              "      flex-wrap:wrap;\n",
              "      gap: 12px;\n",
              "    }\n",
              "\n",
              "    .colab-df-convert {\n",
              "      background-color: #E8F0FE;\n",
              "      border: none;\n",
              "      border-radius: 50%;\n",
              "      cursor: pointer;\n",
              "      display: none;\n",
              "      fill: #1967D2;\n",
              "      height: 32px;\n",
              "      padding: 0 0 0 0;\n",
              "      width: 32px;\n",
              "    }\n",
              "\n",
              "    .colab-df-convert:hover {\n",
              "      background-color: #E2EBFA;\n",
              "      box-shadow: 0px 1px 2px rgba(60, 64, 67, 0.3), 0px 1px 3px 1px rgba(60, 64, 67, 0.15);\n",
              "      fill: #174EA6;\n",
              "    }\n",
              "\n",
              "    [theme=dark] .colab-df-convert {\n",
              "      background-color: #3B4455;\n",
              "      fill: #D2E3FC;\n",
              "    }\n",
              "\n",
              "    [theme=dark] .colab-df-convert:hover {\n",
              "      background-color: #434B5C;\n",
              "      box-shadow: 0px 1px 3px 1px rgba(0, 0, 0, 0.15);\n",
              "      filter: drop-shadow(0px 1px 2px rgba(0, 0, 0, 0.3));\n",
              "      fill: #FFFFFF;\n",
              "    }\n",
              "  </style>\n",
              "\n",
              "      <script>\n",
              "        const buttonEl =\n",
              "          document.querySelector('#df-cc88e66d-d999-4cb4-a62a-8a3868978334 button.colab-df-convert');\n",
              "        buttonEl.style.display =\n",
              "          google.colab.kernel.accessAllowed ? 'block' : 'none';\n",
              "\n",
              "        async function convertToInteractive(key) {\n",
              "          const element = document.querySelector('#df-cc88e66d-d999-4cb4-a62a-8a3868978334');\n",
              "          const dataTable =\n",
              "            await google.colab.kernel.invokeFunction('convertToInteractive',\n",
              "                                                     [key], {});\n",
              "          if (!dataTable) return;\n",
              "\n",
              "          const docLinkHtml = 'Like what you see? Visit the ' +\n",
              "            '<a target=\"_blank\" href=https://colab.research.google.com/notebooks/data_table.ipynb>data table notebook</a>'\n",
              "            + ' to learn more about interactive tables.';\n",
              "          element.innerHTML = '';\n",
              "          dataTable['output_type'] = 'display_data';\n",
              "          await google.colab.output.renderOutput(dataTable, element);\n",
              "          const docLink = document.createElement('div');\n",
              "          docLink.innerHTML = docLinkHtml;\n",
              "          element.appendChild(docLink);\n",
              "        }\n",
              "      </script>\n",
              "    </div>\n",
              "  </div>\n",
              "  "
            ]
          },
          "metadata": {},
          "execution_count": 203
        }
      ]
    },
    {
      "cell_type": "code",
      "source": [
        "embedding_dict = {}\n",
        "with open(\"glove.twitter.27B.100d.txt\", \"r\") as f:\n",
        "  for line in f:\n",
        "    values = line.split()\n",
        "    word = values[0]\n",
        "    vectors = np.asarray(values[1:], \"float32\")\n",
        "    embedding_dict[word] = vectors\n",
        "  f.close()\n"
      ],
      "metadata": {
        "id": "5SQ0_N2bA-gZ"
      },
      "execution_count": 128,
      "outputs": []
    },
    {
      "cell_type": "code",
      "source": [
        "num_words = 20\n",
        "sent = [\"feel like ai apocalypse ai would kill humans could n't serve purpose disabled people like one would probably go often ca n't work effectively\",\n",
        "\"proud mom wish allah give strong saying alhamdulillah husband son allah give mercy beautifull died supprising crying son husband die still alive jannah aamiin ...\",\n",
        "\"someone professionally diagnosed mental illnesses find disrespectful disgusting making profit making jokes different story though make jokes help cope line joking disrespectful\",\n",
        "\"clinically depressed blew mind due stress say oh man getting anxiety ugh depressed brings attention want fact people make illnesses fashion merch makes feel like everyone looking people directions memes relatable funny relieving said people post memes mental illness .. made wonder alot ik people capable nowadays\"]"
      ],
      "metadata": {
        "id": "vKAwK_z3BKC2"
      },
      "execution_count": 129,
      "outputs": []
    },
    {
      "cell_type": "code",
      "source": [
        "def transformed(sent):\n",
        "  s = []\n",
        "  for word in sent.split():\n",
        "    if embedding_dict.get(word) is not None:\n",
        "      s.append(embedding_dict.get(word))\n",
        "      if len(s) == 20:\n",
        "        return np.stack(s, axis=0)\n",
        "  return np.stack(s, axis=0)\n",
        "\n",
        "def padded_matrix(matrix, num_words):\n",
        "  if matrix.shape[0] < num_words:\n",
        "    zeros = np.zeros((num_words - int(matrix.shape[0]), matrix.shape[1]))\n",
        "    new_matrix = np.concatenate((zeros, matrix), axis=0)\n",
        "    return new_matrix\n",
        "  else:\n",
        "    return matrix\n",
        "\n",
        "def multiplied(matrix):\n",
        "  return matrix.dot(np.ones((100,1)))\n",
        "\n",
        "finalM = []\n",
        "for i in sentence_list:\n",
        "  embed = transformed(i)\n",
        "  new_matrix = padded_matrix(embed, num_words)\n",
        "  vector = multiplied(new_matrix).T\n",
        "  finalM.append(vector)\n",
        "sm_vectors = np.asarray(df_sm.drop(\"lable\", axis=1))\n",
        "\n",
        "MatrixF = np.concatenate(finalM, axis=0)\n",
        "\n",
        "sm_glov = np.concatenate((MatrixF, sm_vectors), axis=1)\n"
      ],
      "metadata": {
        "colab": {
          "base_uri": "https://localhost:8080/"
        },
        "id": "jkno_6n_I8qv",
        "outputId": "61fced3f-696b-4d21-d509-ef4c08ae7b4e"
      },
      "execution_count": 218,
      "outputs": [
        {
          "output_type": "execute_result",
          "data": {
            "text/plain": [
              "(988, 166)"
            ]
          },
          "metadata": {},
          "execution_count": 218
        }
      ]
    },
    {
      "cell_type": "code",
      "source": [
        "df_general = pd.DataFrame(MatrixF)\n",
        "df_general[\"lbl\"] = data[\"lable\"]\n",
        "shuffled = df_general.sample(frac = 1, random_state=300)\n",
        "\n",
        "X = shuffled.drop(\"lbl\", axis=1)\n",
        "y = shuffled[\"lbl\"]\n",
        "\n",
        "from sklearn.model_selection import train_test_split\n",
        "X_train, X_test, y_train, y_test = train_test_split(X, y, test_size=0.20, random_state=0)"
      ],
      "metadata": {
        "id": "_GuDqADTNHrD"
      },
      "execution_count": 150,
      "outputs": []
    },
    {
      "cell_type": "code",
      "source": [
        "df_general_s = pd.DataFrame(sm_glov)\n",
        "df_general_s[\"lbl\"] = data[\"lable\"]\n",
        "sm_gv = df_general_s.sample(frac = 1, random_state=300)\n",
        "\n",
        "X_s = sm_gv.drop(\"lbl\", axis=1)\n",
        "y_s = sm_gv[\"lbl\"]\n",
        "\n",
        "from sklearn.model_selection import train_test_split\n",
        "X_t, X_te, y_t, y_te = train_test_split(X_s, y_s, test_size=0.20, random_state=0)\n",
        "y_t"
      ],
      "metadata": {
        "colab": {
          "base_uri": "https://localhost:8080/"
        },
        "id": "ti3f5kOGinQ6",
        "outputId": "ce56f24d-695b-4f3d-b9c0-a694b7482451"
      },
      "execution_count": 226,
      "outputs": [
        {
          "output_type": "execute_result",
          "data": {
            "text/plain": [
              "618    0\n",
              "474    0\n",
              "848    0\n",
              "159    1\n",
              "334    1\n",
              "      ..\n",
              "431    1\n",
              "908    0\n",
              "613    0\n",
              "234    1\n",
              "958    0\n",
              "Name: lbl, Length: 790, dtype: int64"
            ]
          },
          "metadata": {},
          "execution_count": 226
        }
      ]
    },
    {
      "cell_type": "code",
      "source": [
        "from sklearn.preprocessing import StandardScaler\n",
        "# Normalize the data\n",
        "sc = StandardScaler()\n",
        "normed_train_data = pd.DataFrame(sc.fit_transform(X_t))\n",
        "normed_test_data = pd.DataFrame(sc.fit_transform(X_te))"
      ],
      "metadata": {
        "id": "SvGzzpRPVPCq"
      },
      "execution_count": 228,
      "outputs": []
    },
    {
      "cell_type": "code",
      "source": [
        "from sklearn.ensemble import RandomForestClassifier\n",
        "# creating a RF classifier \n",
        "clf = RandomForestClassifier(n_estimators=800, max_features=\"auto\", max_depth=140)\n",
        "\n",
        "# Training the model on the training dataset\n",
        "# fir function is used to train the model using the training sets as parameters\n",
        "clf.fit(normed_train_data, y_t)\n",
        "\n",
        "#performing predictions on the test dataset\n",
        "y_pred = clf.predict(normed_test_data)\n",
        "\n",
        "print (clf.score(normed_train_data, y_t))\n",
        "print(clf.score(normed_test_data, y_te))\n",
        "\n",
        "#metrics are used to find accuracy or error\n",
        "from sklearn import metrics\n",
        "print()\n",
        "\n",
        "# using metrics module for accuracy calculation \n",
        "print(\"ACCURACY OF THE MODEL: \", metrics.accuracy_score(y_te, y_pred))"
      ],
      "metadata": {
        "colab": {
          "base_uri": "https://localhost:8080/"
        },
        "id": "POlxOLw6Y4o3",
        "outputId": "87bfc573-f36d-4051-ccec-ac34e6a8568d"
      },
      "execution_count": 230,
      "outputs": [
        {
          "output_type": "stream",
          "name": "stdout",
          "text": [
            "1.0\n",
            "0.6111111111111112\n",
            "\n",
            "ACCURACY OF THE MODEL:  0.6111111111111112\n"
          ]
        }
      ]
    },
    {
      "cell_type": "code",
      "source": [
        "from sklearn.metrics import make_scorer, classification_report, confusion_matrix, f1_score, accuracy_score, precision_score, recall_score\n",
        "print(\"=== Classification Report ===\")\n",
        "print(classification_report(y_test, y_pred))\n",
        "print('\\n')"
      ],
      "metadata": {
        "colab": {
          "base_uri": "https://localhost:8080/"
        },
        "id": "FQXLe8-UY6oy",
        "outputId": "b6b968a1-ab75-49eb-e7e1-38020cd4e070"
      },
      "execution_count": 231,
      "outputs": [
        {
          "output_type": "stream",
          "name": "stdout",
          "text": [
            "=== Classification Report ===\n",
            "              precision    recall  f1-score   support\n",
            "\n",
            "           0       0.61      0.78      0.68       107\n",
            "           1       0.61      0.42      0.50        91\n",
            "\n",
            "    accuracy                           0.61       198\n",
            "   macro avg       0.61      0.60      0.59       198\n",
            "weighted avg       0.61      0.61      0.60       198\n",
            "\n",
            "\n",
            "\n"
          ]
        }
      ]
    },
    {
      "cell_type": "code",
      "source": [
        "unique_label = np.unique([y_test, y_pred])\n",
        "cmtx = pd.DataFrame(\n",
        "    confusion_matrix(y_test, y_pred, labels=unique_label), \n",
        "    index=[x for x in unique_label], \n",
        "    columns=[x for x in unique_label]\n",
        ")\n",
        "print(cmtx)"
      ],
      "metadata": {
        "colab": {
          "base_uri": "https://localhost:8080/"
        },
        "id": "Taew9VQhY9sg",
        "outputId": "daf4553e-72aa-4327-da7a-25ddc9455489"
      },
      "execution_count": 232,
      "outputs": [
        {
          "output_type": "stream",
          "name": "stdout",
          "text": [
            "    0   1\n",
            "0  83  24\n",
            "1  53  38\n"
          ]
        }
      ]
    },
    {
      "cell_type": "code",
      "source": [
        "import seaborn as sns\n",
        "sns.heatmap(cmtx, annot=True, cmap='Blues')"
      ],
      "metadata": {
        "colab": {
          "base_uri": "https://localhost:8080/",
          "height": 282
        },
        "id": "EpN1J0QXZbVe",
        "outputId": "12d3ff44-b7c7-44f5-d6d0-dbdf671eeb64"
      },
      "execution_count": 233,
      "outputs": [
        {
          "output_type": "execute_result",
          "data": {
            "text/plain": [
              "<matplotlib.axes._subplots.AxesSubplot at 0x7f442e8d5990>"
            ]
          },
          "metadata": {},
          "execution_count": 233
        },
        {
          "output_type": "display_data",
          "data": {
            "text/plain": [
              "<Figure size 432x288 with 2 Axes>"
            ],
            "image/png": "[encoded data removed]"
          },
          "metadata": {
            "needs_background": "light"
          }
        }
      ]
    },
    {
      "cell_type": "code",
      "source": [],
      "metadata": {
        "id": "9fK1vENoZdyu"
      },
      "execution_count": null,
      "outputs": []
    }
  ]
}