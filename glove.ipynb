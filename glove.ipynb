{
  "nbformat": 4,
  "nbformat_minor": 0,
  "metadata": {
    "colab": {
      "provenance": [],
      "collapsed_sections": [],
      "authorship_tag": "ABX9TyNdjlBHggV6zWkH17iKlIwP",
      "include_colab_link": true
    },
    "kernelspec": {
      "name": "python3",
      "display_name": "Python 3"
    },
    "language_info": {
      "name": "python"
    },
    "accelerator": "GPU"
  },
  "cells": [
    {
      "cell_type": "markdown",
      "metadata": {
        "id": "view-in-github",
        "colab_type": "text"
      },
      "source": [
        "<a href=\"https://colab.research.google.com/github/DaryaTereshchenko/DaryaTereshchenko/blob/main/glove.ipynb\" target=\"_parent\"><img src=\"https://colab.research.google.com/assets/colab-badge.svg\" alt=\"Open In Colab\"/></a>"
      ]
    },
    {
      "cell_type": "code",
      "execution_count": null,
      "metadata": {
        "id": "uyjrwgTnjETN"
      },
      "outputs": [],
      "source": [
        "!pip install tensorflow==2.10.0"
      ]
    },
    {
      "cell_type": "code",
      "source": [
        "from keras.preprocessing.text import Tokenizer\n",
        "from keras_preprocessing.sequence import pad_sequences\n",
        "from keras.models import Sequential\n",
        "from tensorflow.keras.layers import Embedding, LSTM, Dense, Dropout\n",
        "from keras.optimizers import Adam\n",
        "from keras.initializers import Constant\n",
        "\n",
        "## Plotly\n",
        "import plotly.offline as py\n",
        "import plotly.graph_objs as go\n",
        "py.init_notebook_mode(connected=True)"
      ],
      "metadata": {
        "id": "1GrnGLAojIET",
        "colab": {
          "base_uri": "https://localhost:8080/",
          "height": 17
        },
        "outputId": "64e250ab-a8de-4d91-85b5-d631e5b98581"
      },
      "execution_count": null,
      "outputs": [
        {
          "output_type": "display_data",
          "data": {
            "text/html": [
              "        <script type=\"text/javascript\">\n",
              "        window.PlotlyConfig = {MathJaxConfig: 'local'};\n",
              "        if (window.MathJax) {MathJax.Hub.Config({SVG: {font: \"STIX-Web\"}});}\n",
              "        if (typeof require !== 'undefined') {\n",
              "        require.undef(\"plotly\");\n",
              "        requirejs.config({\n",
              "            paths: {\n",
              "                'plotly': ['https://cdn.plot.ly/plotly-2.8.3.min']\n",
              "            }\n",
              "        });\n",
              "        require(['plotly'], function(Plotly) {\n",
              "            window._Plotly = Plotly;\n",
              "        });\n",
              "        }\n",
              "        </script>\n",
              "        "
            ]
          },
          "metadata": {}
        }
      ]
    },
    {
      "cell_type": "code",
      "source": [
        "import nltk\n",
        "import string\n",
        "import numpy as np\n",
        "import pandas as pd\n",
        "from nltk.corpus import stopwords\n",
        "from sklearn.manifold import TSNE\n",
        "from nltk.util import ngrams\n",
        "from sklearn.feature_extraction.text import CountVectorizer\n",
        "from collections import defaultdict\n",
        "from collections import  Counter"
      ],
      "metadata": {
        "id": "MgazP5FOrkxn"
      },
      "execution_count": null,
      "outputs": []
    },
    {
      "cell_type": "code",
      "source": [
        "data = pd.read_csv(\"binary_ethos.csv\", sep=\",\", encoding=\"utf-8\")\n",
        "shuffled = data.sample(frac=1, random_state=300)\n",
        "shuffled.T"
      ],
      "metadata": {
        "id": "roWJdmxJjgpT",
        "colab": {
          "base_uri": "https://localhost:8080/",
          "height": 344
        },
        "outputId": "67911904-0302-49c1-ad54-1fb1c7bbdf29"
      },
      "execution_count": null,
      "outputs": [
        {
          "output_type": "execute_result",
          "data": {
            "text/plain": [
              "                                                     695  \\\n",
              "text   U r still so beautiful and I am still watching...   \n",
              "lable                                                  0   \n",
              "\n",
              "                                                     722  \\\n",
              "text   There's a lot of confusion about male female v...   \n",
              "lable                                                  0   \n",
              "\n",
              "                                                     531  \\\n",
              "text   They don' t clean up the rubbish that they all...   \n",
              "lable                                                  0   \n",
              "\n",
              "                                                     490  \\\n",
              "text   I dont hate those kids with these problems, bu...   \n",
              "lable                                                  0   \n",
              "\n",
              "                                                     68   \\\n",
              "text   Only black lives matter. fuck white people the...   \n",
              "lable                                                  1   \n",
              "\n",
              "                                                     444  \\\n",
              "text   Those illegals want to sue the company for mon...   \n",
              "lable                                                  0   \n",
              "\n",
              "                                                     416  \\\n",
              "text   France let them refugees in and this what happ...   \n",
              "lable                                                  1   \n",
              "\n",
              "                                                     796                  918  \\\n",
              "text   My cousin has that, he's 7 but still can't tal...  God bless you dears   \n",
              "lable                                                  0                    0   \n",
              "\n",
              "                    932  ...  \\\n",
              "text   Enough is Enough  ...   \n",
              "lable                 0  ...   \n",
              "\n",
              "                                                     505  \\\n",
              "text   Anyone who can' cope as the gender they are bo...   \n",
              "lable                                                  0   \n",
              "\n",
              "                                                     406  \\\n",
              "text   Humans with third leg I hope to distinct soon,...   \n",
              "lable                                                  1   \n",
              "\n",
              "                                                     103  \\\n",
              "text   I just don't like Homosexuals raising kids it'...   \n",
              "lable                                                  1   \n",
              "\n",
              "                                                     91   \\\n",
              "text   Indians are shit but burgers only have broken ...   \n",
              "lable                                                  1   \n",
              "\n",
              "                                                 725  \\\n",
              "text   Then the same people choosing the same answer   \n",
              "lable                                              0   \n",
              "\n",
              "                                                     9    \\\n",
              "text   Why do negroes tear down their own neighborhoo...   \n",
              "lable                                                  1   \n",
              "\n",
              "                                                     714  \\\n",
              "text   They must be really suffering if they're throw...   \n",
              "lable                                                  0   \n",
              "\n",
              "                                                     917  \\\n",
              "text   God,my humble question to u almighty... Y u se...   \n",
              "lable                                                  0   \n",
              "\n",
              "                                                     481  \\\n",
              "text   If you are a fking queen, you can move in any ...   \n",
              "lable                                                  0   \n",
              "\n",
              "                                                     209  \n",
              "text   Lgbt now spread in asia. Many anti lgbt in asi...  \n",
              "lable                                                  1  \n",
              "\n",
              "[2 rows x 988 columns]"
            ],
            "text/html": [
              "\n",
              "  <div id=\"df-a931c91e-686c-4788-83a5-5fc3bf48bc2d\">\n",
              "    <div class=\"colab-df-container\">\n",
              "      <div>\n",
              "<style scoped>\n",
              "    .dataframe tbody tr th:only-of-type {\n",
              "        vertical-align: middle;\n",
              "    }\n",
              "\n",
              "    .dataframe tbody tr th {\n",
              "        vertical-align: top;\n",
              "    }\n",
              "\n",
              "    .dataframe thead th {\n",
              "        text-align: right;\n",
              "    }\n",
              "</style>\n",
              "<table border=\"1\" class=\"dataframe\">\n",
              "  <thead>\n",
              "    <tr style=\"text-align: right;\">\n",
              "      <th></th>\n",
              "      <th>695</th>\n",
              "      <th>722</th>\n",
              "      <th>531</th>\n",
              "      <th>490</th>\n",
              "      <th>68</th>\n",
              "      <th>444</th>\n",
              "      <th>416</th>\n",
              "      <th>796</th>\n",
              "      <th>918</th>\n",
              "      <th>932</th>\n",
              "      <th>...</th>\n",
              "      <th>505</th>\n",
              "      <th>406</th>\n",
              "      <th>103</th>\n",
              "      <th>91</th>\n",
              "      <th>725</th>\n",
              "      <th>9</th>\n",
              "      <th>714</th>\n",
              "      <th>917</th>\n",
              "      <th>481</th>\n",
              "      <th>209</th>\n",
              "    </tr>\n",
              "  </thead>\n",
              "  <tbody>\n",
              "    <tr>\n",
              "      <th>text</th>\n",
              "      <td>U r still so beautiful and I am still watching...</td>\n",
              "      <td>There's a lot of confusion about male female v...</td>\n",
              "      <td>They don' t clean up the rubbish that they all...</td>\n",
              "      <td>I dont hate those kids with these problems, bu...</td>\n",
              "      <td>Only black lives matter. fuck white people the...</td>\n",
              "      <td>Those illegals want to sue the company for mon...</td>\n",
              "      <td>France let them refugees in and this what happ...</td>\n",
              "      <td>My cousin has that, he's 7 but still can't tal...</td>\n",
              "      <td>God bless you dears</td>\n",
              "      <td>Enough is Enough</td>\n",
              "      <td>...</td>\n",
              "      <td>Anyone who can' cope as the gender they are bo...</td>\n",
              "      <td>Humans with third leg I hope to distinct soon,...</td>\n",
              "      <td>I just don't like Homosexuals raising kids it'...</td>\n",
              "      <td>Indians are shit but burgers only have broken ...</td>\n",
              "      <td>Then the same people choosing the same answer</td>\n",
              "      <td>Why do negroes tear down their own neighborhoo...</td>\n",
              "      <td>They must be really suffering if they're throw...</td>\n",
              "      <td>God,my humble question to u almighty... Y u se...</td>\n",
              "      <td>If you are a fking queen, you can move in any ...</td>\n",
              "      <td>Lgbt now spread in asia. Many anti lgbt in asi...</td>\n",
              "    </tr>\n",
              "    <tr>\n",
              "      <th>lable</th>\n",
              "      <td>0</td>\n",
              "      <td>0</td>\n",
              "      <td>0</td>\n",
              "      <td>0</td>\n",
              "      <td>1</td>\n",
              "      <td>0</td>\n",
              "      <td>1</td>\n",
              "      <td>0</td>\n",
              "      <td>0</td>\n",
              "      <td>0</td>\n",
              "      <td>...</td>\n",
              "      <td>0</td>\n",
              "      <td>1</td>\n",
              "      <td>1</td>\n",
              "      <td>1</td>\n",
              "      <td>0</td>\n",
              "      <td>1</td>\n",
              "      <td>0</td>\n",
              "      <td>0</td>\n",
              "      <td>0</td>\n",
              "      <td>1</td>\n",
              "    </tr>\n",
              "  </tbody>\n",
              "</table>\n",
              "<p>2 rows × 988 columns</p>\n",
              "</div>\n",
              "      <button class=\"colab-df-convert\" onclick=\"convertToInteractive('df-a931c91e-686c-4788-83a5-5fc3bf48bc2d')\"\n",
              "              title=\"Convert this dataframe to an interactive table.\"\n",
              "              style=\"display:none;\">\n",
              "        \n",
              "  <svg xmlns=\"http://www.w3.org/2000/svg\" height=\"24px\"viewBox=\"0 0 24 24\"\n",
              "       width=\"24px\">\n",
              "    <path d=\"M0 0h24v24H0V0z\" fill=\"none\"/>\n",
              "    <path d=\"M18.56 5.44l.94 2.06.94-2.06 2.06-.94-2.06-.94-.94-2.06-.94 2.06-2.06.94zm-11 1L8.5 8.5l.94-2.06 2.06-.94-2.06-.94L8.5 2.5l-.94 2.06-2.06.94zm10 10l.94 2.06.94-2.06 2.06-.94-2.06-.94-.94-2.06-.94 2.06-2.06.94z\"/><path d=\"M17.41 7.96l-1.37-1.37c-.4-.4-.92-.59-1.43-.59-.52 0-1.04.2-1.43.59L10.3 9.45l-7.72 7.72c-.78.78-.78 2.05 0 2.83L4 21.41c.39.39.9.59 1.41.59.51 0 1.02-.2 1.41-.59l7.78-7.78 2.81-2.81c.8-.78.8-2.07 0-2.86zM5.41 20L4 18.59l7.72-7.72 1.47 1.35L5.41 20z\"/>\n",
              "  </svg>\n",
              "      </button>\n",
              "      \n",
              "  <style>\n",
              "    .colab-df-container {\n",
              "      display:flex;\n",
              "      flex-wrap:wrap;\n",
              "      gap: 12px;\n",
              "    }\n",
              "\n",
              "    .colab-df-convert {\n",
              "      background-color: #E8F0FE;\n",
              "      border: none;\n",
              "      border-radius: 50%;\n",
              "      cursor: pointer;\n",
              "      display: none;\n",
              "      fill: #1967D2;\n",
              "      height: 32px;\n",
              "      padding: 0 0 0 0;\n",
              "      width: 32px;\n",
              "    }\n",
              "\n",
              "    .colab-df-convert:hover {\n",
              "      background-color: #E2EBFA;\n",
              "      box-shadow: 0px 1px 2px rgba(60, 64, 67, 0.3), 0px 1px 3px 1px rgba(60, 64, 67, 0.15);\n",
              "      fill: #174EA6;\n",
              "    }\n",
              "\n",
              "    [theme=dark] .colab-df-convert {\n",
              "      background-color: #3B4455;\n",
              "      fill: #D2E3FC;\n",
              "    }\n",
              "\n",
              "    [theme=dark] .colab-df-convert:hover {\n",
              "      background-color: #434B5C;\n",
              "      box-shadow: 0px 1px 3px 1px rgba(0, 0, 0, 0.15);\n",
              "      filter: drop-shadow(0px 1px 2px rgba(0, 0, 0, 0.3));\n",
              "      fill: #FFFFFF;\n",
              "    }\n",
              "  </style>\n",
              "\n",
              "      <script>\n",
              "        const buttonEl =\n",
              "          document.querySelector('#df-a931c91e-686c-4788-83a5-5fc3bf48bc2d button.colab-df-convert');\n",
              "        buttonEl.style.display =\n",
              "          google.colab.kernel.accessAllowed ? 'block' : 'none';\n",
              "\n",
              "        async function convertToInteractive(key) {\n",
              "          const element = document.querySelector('#df-a931c91e-686c-4788-83a5-5fc3bf48bc2d');\n",
              "          const dataTable =\n",
              "            await google.colab.kernel.invokeFunction('convertToInteractive',\n",
              "                                                     [key], {});\n",
              "          if (!dataTable) return;\n",
              "\n",
              "          const docLinkHtml = 'Like what you see? Visit the ' +\n",
              "            '<a target=\"_blank\" href=https://colab.research.google.com/notebooks/data_table.ipynb>data table notebook</a>'\n",
              "            + ' to learn more about interactive tables.';\n",
              "          element.innerHTML = '';\n",
              "          dataTable['output_type'] = 'display_data';\n",
              "          await google.colab.output.renderOutput(dataTable, element);\n",
              "          const docLink = document.createElement('div');\n",
              "          docLink.innerHTML = docLinkHtml;\n",
              "          element.appendChild(docLink);\n",
              "        }\n",
              "      </script>\n",
              "    </div>\n",
              "  </div>\n",
              "  "
            ]
          },
          "metadata": {},
          "execution_count": 74
        }
      ]
    },
    {
      "cell_type": "code",
      "source": [
        "nltk.download('stopwords')\n",
        "nltk.download('punkt')\n",
        "import regex as re"
      ],
      "metadata": {
        "colab": {
          "base_uri": "https://localhost:8080/"
        },
        "id": "VvyDUi3wxdyP",
        "outputId": "880cbabd-c7c3-435b-a6f7-c11173e750ee"
      },
      "execution_count": null,
      "outputs": [
        {
          "output_type": "stream",
          "name": "stderr",
          "text": [
            "[nltk_data] Downloading package stopwords to /root/nltk_data...\n",
            "[nltk_data]   Package stopwords is already up-to-date!\n",
            "[nltk_data] Downloading package punkt to /root/nltk_data...\n",
            "[nltk_data]   Package punkt is already up-to-date!\n"
          ]
        }
      ]
    },
    {
      "cell_type": "code",
      "source": [
        "def clean_text(line):\n",
        "  stops = set(stopwords.words(\"english\"))\n",
        "  processed_line = line.translate(str.maketrans('','', string.punctuation))\n",
        "  processed_line = line.lower().split()\n",
        "  processed_line = [word for word in processed_line if word not in stops]\n",
        "  text = \" \".join(processed_line)\n",
        "  return text"
      ],
      "metadata": {
        "id": "c6xB6VRAxlqb"
      },
      "execution_count": null,
      "outputs": []
    },
    {
      "cell_type": "code",
      "source": [
        "shuffled['text'] = shuffled['text'].map(lambda x: clean_text(x))\n",
        "print(shuffled['text'])"
      ],
      "metadata": {
        "colab": {
          "base_uri": "https://localhost:8080/"
        },
        "id": "P7GZEozwzG0C",
        "outputId": "0717dca5-6a6d-483d-9202-33239c49105b"
      },
      "execution_count": null,
      "outputs": [
        {
          "output_type": "stream",
          "name": "stdout",
          "text": [
            "695    u r still beautiful still watching babe chat l...\n",
            "722    there's lot confusion male female vs. masculin...\n",
            "531     don' clean rubbish throw floor place looks mess.\n",
            "490    dont hate kids problems, im saying feel ver un...\n",
            "68     black lives matter. fuck white people cancer e...\n",
            "                             ...                        \n",
            "9      negroes tear neighborhoods black thug gets kil...\n",
            "714    must really suffering they're throwing food gr...\n",
            "917    god,my humble question u almighty... u send ea...\n",
            "481    fking queen, move direction. please move away ...\n",
            "209    lgbt spread asia. many anti lgbt asian worried...\n",
            "Name: text, Length: 988, dtype: object\n"
          ]
        }
      ]
    },
    {
      "cell_type": "code",
      "source": [
        "train = shuffled.sample(frac=0.8, random_state=20)\n",
        "train.reset_index(drop=True)"
      ],
      "metadata": {
        "colab": {
          "base_uri": "https://localhost:8080/",
          "height": 424
        },
        "id": "QS_TuciK2x9f",
        "outputId": "a5e79bf9-5092-48c3-a469-a96f26fcf15a"
      },
      "execution_count": null,
      "outputs": [
        {
          "output_type": "execute_result",
          "data": {
            "text/plain": [
              "                                                  text  lable\n",
              "0    winnie, even tinnie, flat chest would hire mis...      0\n",
              "1               live youre wanted. deport jews muslims      1\n",
              "2    fuck homo dumb ass prick! shoulda let get fuck...      1\n",
              "3    next time like front one like shout left ear t...      0\n",
              "4    world would better without white people stole ...      1\n",
              "..                                                 ...    ...\n",
              "785             easy seattle wheeler! towns countries!      0\n",
              "786  bro delete yo shit youtube rn. fuck outta yo c...      0\n",
              "787  indian ned flanders. look like professionally ...      1\n",
              "788                              beeing gay anti human      1\n",
              "789                i'd love destroy need tech support.      0\n",
              "\n",
              "[790 rows x 2 columns]"
            ],
            "text/html": [
              "\n",
              "  <div id=\"df-e692e8ed-2ce6-4ada-9088-5d55ad711a6c\">\n",
              "    <div class=\"colab-df-container\">\n",
              "      <div>\n",
              "<style scoped>\n",
              "    .dataframe tbody tr th:only-of-type {\n",
              "        vertical-align: middle;\n",
              "    }\n",
              "\n",
              "    .dataframe tbody tr th {\n",
              "        vertical-align: top;\n",
              "    }\n",
              "\n",
              "    .dataframe thead th {\n",
              "        text-align: right;\n",
              "    }\n",
              "</style>\n",
              "<table border=\"1\" class=\"dataframe\">\n",
              "  <thead>\n",
              "    <tr style=\"text-align: right;\">\n",
              "      <th></th>\n",
              "      <th>text</th>\n",
              "      <th>lable</th>\n",
              "    </tr>\n",
              "  </thead>\n",
              "  <tbody>\n",
              "    <tr>\n",
              "      <th>0</th>\n",
              "      <td>winnie, even tinnie, flat chest would hire mis...</td>\n",
              "      <td>0</td>\n",
              "    </tr>\n",
              "    <tr>\n",
              "      <th>1</th>\n",
              "      <td>live youre wanted. deport jews muslims</td>\n",
              "      <td>1</td>\n",
              "    </tr>\n",
              "    <tr>\n",
              "      <th>2</th>\n",
              "      <td>fuck homo dumb ass prick! shoulda let get fuck...</td>\n",
              "      <td>1</td>\n",
              "    </tr>\n",
              "    <tr>\n",
              "      <th>3</th>\n",
              "      <td>next time like front one like shout left ear t...</td>\n",
              "      <td>0</td>\n",
              "    </tr>\n",
              "    <tr>\n",
              "      <th>4</th>\n",
              "      <td>world would better without white people stole ...</td>\n",
              "      <td>1</td>\n",
              "    </tr>\n",
              "    <tr>\n",
              "      <th>...</th>\n",
              "      <td>...</td>\n",
              "      <td>...</td>\n",
              "    </tr>\n",
              "    <tr>\n",
              "      <th>785</th>\n",
              "      <td>easy seattle wheeler! towns countries!</td>\n",
              "      <td>0</td>\n",
              "    </tr>\n",
              "    <tr>\n",
              "      <th>786</th>\n",
              "      <td>bro delete yo shit youtube rn. fuck outta yo c...</td>\n",
              "      <td>0</td>\n",
              "    </tr>\n",
              "    <tr>\n",
              "      <th>787</th>\n",
              "      <td>indian ned flanders. look like professionally ...</td>\n",
              "      <td>1</td>\n",
              "    </tr>\n",
              "    <tr>\n",
              "      <th>788</th>\n",
              "      <td>beeing gay anti human</td>\n",
              "      <td>1</td>\n",
              "    </tr>\n",
              "    <tr>\n",
              "      <th>789</th>\n",
              "      <td>i'd love destroy need tech support.</td>\n",
              "      <td>0</td>\n",
              "    </tr>\n",
              "  </tbody>\n",
              "</table>\n",
              "<p>790 rows × 2 columns</p>\n",
              "</div>\n",
              "      <button class=\"colab-df-convert\" onclick=\"convertToInteractive('df-e692e8ed-2ce6-4ada-9088-5d55ad711a6c')\"\n",
              "              title=\"Convert this dataframe to an interactive table.\"\n",
              "              style=\"display:none;\">\n",
              "        \n",
              "  <svg xmlns=\"http://www.w3.org/2000/svg\" height=\"24px\"viewBox=\"0 0 24 24\"\n",
              "       width=\"24px\">\n",
              "    <path d=\"M0 0h24v24H0V0z\" fill=\"none\"/>\n",
              "    <path d=\"M18.56 5.44l.94 2.06.94-2.06 2.06-.94-2.06-.94-.94-2.06-.94 2.06-2.06.94zm-11 1L8.5 8.5l.94-2.06 2.06-.94-2.06-.94L8.5 2.5l-.94 2.06-2.06.94zm10 10l.94 2.06.94-2.06 2.06-.94-2.06-.94-.94-2.06-.94 2.06-2.06.94z\"/><path d=\"M17.41 7.96l-1.37-1.37c-.4-.4-.92-.59-1.43-.59-.52 0-1.04.2-1.43.59L10.3 9.45l-7.72 7.72c-.78.78-.78 2.05 0 2.83L4 21.41c.39.39.9.59 1.41.59.51 0 1.02-.2 1.41-.59l7.78-7.78 2.81-2.81c.8-.78.8-2.07 0-2.86zM5.41 20L4 18.59l7.72-7.72 1.47 1.35L5.41 20z\"/>\n",
              "  </svg>\n",
              "      </button>\n",
              "      \n",
              "  <style>\n",
              "    .colab-df-container {\n",
              "      display:flex;\n",
              "      flex-wrap:wrap;\n",
              "      gap: 12px;\n",
              "    }\n",
              "\n",
              "    .colab-df-convert {\n",
              "      background-color: #E8F0FE;\n",
              "      border: none;\n",
              "      border-radius: 50%;\n",
              "      cursor: pointer;\n",
              "      display: none;\n",
              "      fill: #1967D2;\n",
              "      height: 32px;\n",
              "      padding: 0 0 0 0;\n",
              "      width: 32px;\n",
              "    }\n",
              "\n",
              "    .colab-df-convert:hover {\n",
              "      background-color: #E2EBFA;\n",
              "      box-shadow: 0px 1px 2px rgba(60, 64, 67, 0.3), 0px 1px 3px 1px rgba(60, 64, 67, 0.15);\n",
              "      fill: #174EA6;\n",
              "    }\n",
              "\n",
              "    [theme=dark] .colab-df-convert {\n",
              "      background-color: #3B4455;\n",
              "      fill: #D2E3FC;\n",
              "    }\n",
              "\n",
              "    [theme=dark] .colab-df-convert:hover {\n",
              "      background-color: #434B5C;\n",
              "      box-shadow: 0px 1px 3px 1px rgba(0, 0, 0, 0.15);\n",
              "      filter: drop-shadow(0px 1px 2px rgba(0, 0, 0, 0.3));\n",
              "      fill: #FFFFFF;\n",
              "    }\n",
              "  </style>\n",
              "\n",
              "      <script>\n",
              "        const buttonEl =\n",
              "          document.querySelector('#df-e692e8ed-2ce6-4ada-9088-5d55ad711a6c button.colab-df-convert');\n",
              "        buttonEl.style.display =\n",
              "          google.colab.kernel.accessAllowed ? 'block' : 'none';\n",
              "\n",
              "        async function convertToInteractive(key) {\n",
              "          const element = document.querySelector('#df-e692e8ed-2ce6-4ada-9088-5d55ad711a6c');\n",
              "          const dataTable =\n",
              "            await google.colab.kernel.invokeFunction('convertToInteractive',\n",
              "                                                     [key], {});\n",
              "          if (!dataTable) return;\n",
              "\n",
              "          const docLinkHtml = 'Like what you see? Visit the ' +\n",
              "            '<a target=\"_blank\" href=https://colab.research.google.com/notebooks/data_table.ipynb>data table notebook</a>'\n",
              "            + ' to learn more about interactive tables.';\n",
              "          element.innerHTML = '';\n",
              "          dataTable['output_type'] = 'display_data';\n",
              "          await google.colab.output.renderOutput(dataTable, element);\n",
              "          const docLink = document.createElement('div');\n",
              "          docLink.innerHTML = docLinkHtml;\n",
              "          element.appendChild(docLink);\n",
              "        }\n",
              "      </script>\n",
              "    </div>\n",
              "  </div>\n",
              "  "
            ]
          },
          "metadata": {},
          "execution_count": 95
        }
      ]
    },
    {
      "cell_type": "code",
      "source": [
        "test = shuffled.drop(train.index)\n",
        "test = test.sample(frac=1, random_state=200)\n",
        "test.reset_index(drop=True)"
      ],
      "metadata": {
        "colab": {
          "base_uri": "https://localhost:8080/",
          "height": 424
        },
        "id": "SQ2BPl4Y3xXB",
        "outputId": "c14be033-ad8f-403f-e28f-7d367d3c399a"
      },
      "execution_count": null,
      "outputs": [
        {
          "output_type": "execute_result",
          "data": {
            "text/plain": [
              "                                                  text  lable\n",
              "0                   looks like gay poster boy syphilis      1\n",
              "1                                         lyrics wrong      0\n",
              "2                                 beautiful every way!      0\n",
              "3    believe me, whites superior every way nips wes...      1\n",
              "4    well..congratulations u loose one ur subscribe...      0\n",
              "..                                                 ...    ...\n",
              "193  certainly can. make illegal use them. boom. do...      0\n",
              "194  regret approaching girl. fuck gynocentric soci...      1\n",
              "195         fuck sweden. let die like degenerates are!      1\n",
              "196  honestly hate china. u disagree cant. horrible...      1\n",
              "197                          lmfao fat slob wheelchair      1\n",
              "\n",
              "[198 rows x 2 columns]"
            ],
            "text/html": [
              "\n",
              "  <div id=\"df-b952f172-147d-4292-82cd-5af494d9f36f\">\n",
              "    <div class=\"colab-df-container\">\n",
              "      <div>\n",
              "<style scoped>\n",
              "    .dataframe tbody tr th:only-of-type {\n",
              "        vertical-align: middle;\n",
              "    }\n",
              "\n",
              "    .dataframe tbody tr th {\n",
              "        vertical-align: top;\n",
              "    }\n",
              "\n",
              "    .dataframe thead th {\n",
              "        text-align: right;\n",
              "    }\n",
              "</style>\n",
              "<table border=\"1\" class=\"dataframe\">\n",
              "  <thead>\n",
              "    <tr style=\"text-align: right;\">\n",
              "      <th></th>\n",
              "      <th>text</th>\n",
              "      <th>lable</th>\n",
              "    </tr>\n",
              "  </thead>\n",
              "  <tbody>\n",
              "    <tr>\n",
              "      <th>0</th>\n",
              "      <td>looks like gay poster boy syphilis</td>\n",
              "      <td>1</td>\n",
              "    </tr>\n",
              "    <tr>\n",
              "      <th>1</th>\n",
              "      <td>lyrics wrong</td>\n",
              "      <td>0</td>\n",
              "    </tr>\n",
              "    <tr>\n",
              "      <th>2</th>\n",
              "      <td>beautiful every way!</td>\n",
              "      <td>0</td>\n",
              "    </tr>\n",
              "    <tr>\n",
              "      <th>3</th>\n",
              "      <td>believe me, whites superior every way nips wes...</td>\n",
              "      <td>1</td>\n",
              "    </tr>\n",
              "    <tr>\n",
              "      <th>4</th>\n",
              "      <td>well..congratulations u loose one ur subscribe...</td>\n",
              "      <td>0</td>\n",
              "    </tr>\n",
              "    <tr>\n",
              "      <th>...</th>\n",
              "      <td>...</td>\n",
              "      <td>...</td>\n",
              "    </tr>\n",
              "    <tr>\n",
              "      <th>193</th>\n",
              "      <td>certainly can. make illegal use them. boom. do...</td>\n",
              "      <td>0</td>\n",
              "    </tr>\n",
              "    <tr>\n",
              "      <th>194</th>\n",
              "      <td>regret approaching girl. fuck gynocentric soci...</td>\n",
              "      <td>1</td>\n",
              "    </tr>\n",
              "    <tr>\n",
              "      <th>195</th>\n",
              "      <td>fuck sweden. let die like degenerates are!</td>\n",
              "      <td>1</td>\n",
              "    </tr>\n",
              "    <tr>\n",
              "      <th>196</th>\n",
              "      <td>honestly hate china. u disagree cant. horrible...</td>\n",
              "      <td>1</td>\n",
              "    </tr>\n",
              "    <tr>\n",
              "      <th>197</th>\n",
              "      <td>lmfao fat slob wheelchair</td>\n",
              "      <td>1</td>\n",
              "    </tr>\n",
              "  </tbody>\n",
              "</table>\n",
              "<p>198 rows × 2 columns</p>\n",
              "</div>\n",
              "      <button class=\"colab-df-convert\" onclick=\"convertToInteractive('df-b952f172-147d-4292-82cd-5af494d9f36f')\"\n",
              "              title=\"Convert this dataframe to an interactive table.\"\n",
              "              style=\"display:none;\">\n",
              "        \n",
              "  <svg xmlns=\"http://www.w3.org/2000/svg\" height=\"24px\"viewBox=\"0 0 24 24\"\n",
              "       width=\"24px\">\n",
              "    <path d=\"M0 0h24v24H0V0z\" fill=\"none\"/>\n",
              "    <path d=\"M18.56 5.44l.94 2.06.94-2.06 2.06-.94-2.06-.94-.94-2.06-.94 2.06-2.06.94zm-11 1L8.5 8.5l.94-2.06 2.06-.94-2.06-.94L8.5 2.5l-.94 2.06-2.06.94zm10 10l.94 2.06.94-2.06 2.06-.94-2.06-.94-.94-2.06-.94 2.06-2.06.94z\"/><path d=\"M17.41 7.96l-1.37-1.37c-.4-.4-.92-.59-1.43-.59-.52 0-1.04.2-1.43.59L10.3 9.45l-7.72 7.72c-.78.78-.78 2.05 0 2.83L4 21.41c.39.39.9.59 1.41.59.51 0 1.02-.2 1.41-.59l7.78-7.78 2.81-2.81c.8-.78.8-2.07 0-2.86zM5.41 20L4 18.59l7.72-7.72 1.47 1.35L5.41 20z\"/>\n",
              "  </svg>\n",
              "      </button>\n",
              "      \n",
              "  <style>\n",
              "    .colab-df-container {\n",
              "      display:flex;\n",
              "      flex-wrap:wrap;\n",
              "      gap: 12px;\n",
              "    }\n",
              "\n",
              "    .colab-df-convert {\n",
              "      background-color: #E8F0FE;\n",
              "      border: none;\n",
              "      border-radius: 50%;\n",
              "      cursor: pointer;\n",
              "      display: none;\n",
              "      fill: #1967D2;\n",
              "      height: 32px;\n",
              "      padding: 0 0 0 0;\n",
              "      width: 32px;\n",
              "    }\n",
              "\n",
              "    .colab-df-convert:hover {\n",
              "      background-color: #E2EBFA;\n",
              "      box-shadow: 0px 1px 2px rgba(60, 64, 67, 0.3), 0px 1px 3px 1px rgba(60, 64, 67, 0.15);\n",
              "      fill: #174EA6;\n",
              "    }\n",
              "\n",
              "    [theme=dark] .colab-df-convert {\n",
              "      background-color: #3B4455;\n",
              "      fill: #D2E3FC;\n",
              "    }\n",
              "\n",
              "    [theme=dark] .colab-df-convert:hover {\n",
              "      background-color: #434B5C;\n",
              "      box-shadow: 0px 1px 3px 1px rgba(0, 0, 0, 0.15);\n",
              "      filter: drop-shadow(0px 1px 2px rgba(0, 0, 0, 0.3));\n",
              "      fill: #FFFFFF;\n",
              "    }\n",
              "  </style>\n",
              "\n",
              "      <script>\n",
              "        const buttonEl =\n",
              "          document.querySelector('#df-b952f172-147d-4292-82cd-5af494d9f36f button.colab-df-convert');\n",
              "        buttonEl.style.display =\n",
              "          google.colab.kernel.accessAllowed ? 'block' : 'none';\n",
              "\n",
              "        async function convertToInteractive(key) {\n",
              "          const element = document.querySelector('#df-b952f172-147d-4292-82cd-5af494d9f36f');\n",
              "          const dataTable =\n",
              "            await google.colab.kernel.invokeFunction('convertToInteractive',\n",
              "                                                     [key], {});\n",
              "          if (!dataTable) return;\n",
              "\n",
              "          const docLinkHtml = 'Like what you see? Visit the ' +\n",
              "            '<a target=\"_blank\" href=https://colab.research.google.com/notebooks/data_table.ipynb>data table notebook</a>'\n",
              "            + ' to learn more about interactive tables.';\n",
              "          element.innerHTML = '';\n",
              "          dataTable['output_type'] = 'display_data';\n",
              "          await google.colab.output.renderOutput(dataTable, element);\n",
              "          const docLink = document.createElement('div');\n",
              "          docLink.innerHTML = docLinkHtml;\n",
              "          element.appendChild(docLink);\n",
              "        }\n",
              "      </script>\n",
              "    </div>\n",
              "  </div>\n",
              "  "
            ]
          },
          "metadata": {},
          "execution_count": 96
        }
      ]
    },
    {
      "cell_type": "code",
      "source": [
        "from nltk.tokenize import word_tokenize\n",
        "def create_corpus(data):\n",
        "  corpus = []\n",
        "  for text in train[\"text\"]:\n",
        "    words = [word for word in word_tokenize(text)]\n",
        "    corpus.append(words)\n",
        "  return corpus"
      ],
      "metadata": {
        "id": "sOiBBOvd2FNo"
      },
      "execution_count": null,
      "outputs": []
    },
    {
      "cell_type": "code",
      "source": [
        "corpus = create_corpus(train)\n",
        "print(corpus[0])"
      ],
      "metadata": {
        "colab": {
          "base_uri": "https://localhost:8080/"
        },
        "id": "OwrCzyIP5RBt",
        "outputId": "9cb386e0-db23-4a6e-af97-c0dc658d8e04"
      },
      "execution_count": null,
      "outputs": [
        {
          "output_type": "stream",
          "name": "stdout",
          "text": [
            "['winnie', ',', 'even', 'tinnie', ',', 'flat', 'chest', 'would', 'hire', 'miss', '.', 'way', '.']\n"
          ]
        }
      ]
    },
    {
      "cell_type": "code",
      "source": [
        "for line in corpus:\n",
        "  for token in line:\n",
        "    if token in set(string.punctuation):\n",
        "      line.remove(token)"
      ],
      "metadata": {
        "id": "F3IK0gGGx9CV"
      },
      "execution_count": null,
      "outputs": []
    },
    {
      "cell_type": "code",
      "source": [
        "print(corpus[10])"
      ],
      "metadata": {
        "colab": {
          "base_uri": "https://localhost:8080/"
        },
        "id": "VKtMhDFLyIDl",
        "outputId": "0bc3d8f0-0c37-41fb-b524-844c5d48148a"
      },
      "execution_count": null,
      "outputs": [
        {
          "output_type": "stream",
          "name": "stdout",
          "text": [
            "['wtf', 'teacher', 'expelled', 'that', \"'s\", 'way', 'treat', 'disabled', 'kid', 'specially', 'autistic', 'one']\n"
          ]
        }
      ]
    },
    {
      "cell_type": "code",
      "source": [
        "num_words = len(corpus)\n",
        "print(num_words)"
      ],
      "metadata": {
        "colab": {
          "base_uri": "https://localhost:8080/"
        },
        "id": "c02pzM05z-TN",
        "outputId": "afe72efe-bb90-4e75-b060-738176577e3b"
      },
      "execution_count": null,
      "outputs": [
        {
          "output_type": "stream",
          "name": "stdout",
          "text": [
            "790\n"
          ]
        }
      ]
    },
    {
      "cell_type": "code",
      "source": [
        "train_sentences = train.text\n",
        "train_labels = train[\"lable\"]\n",
        "train_sentences[10]"
      ],
      "metadata": {
        "id": "shctJ4si549H",
        "colab": {
          "base_uri": "https://localhost:8080/",
          "height": 35
        },
        "outputId": "b9dc0685-3522-4e6c-e72d-887234d87a89"
      },
      "execution_count": null,
      "outputs": [
        {
          "output_type": "execute_result",
          "data": {
            "text/plain": [
              "'gives aa fuck shit diamonds jews fuck'"
            ],
            "application/vnd.google.colaboratory.intrinsic+json": {
              "type": "string"
            }
          },
          "metadata": {},
          "execution_count": 116
        }
      ]
    },
    {
      "cell_type": "code",
      "source": [
        "test_sentences = test.text\n",
        "test_labels = test[\"lable\"]\n",
        "test_sentences[207]"
      ],
      "metadata": {
        "id": "ZwzfBRHzSC4D",
        "colab": {
          "base_uri": "https://localhost:8080/",
          "height": 35
        },
        "outputId": "3e05d7d8-fbba-404d-faf5-9879e255554d"
      },
      "execution_count": null,
      "outputs": [
        {
          "output_type": "execute_result",
          "data": {
            "text/plain": [
              "'looks like gay poster boy syphilis'"
            ],
            "application/vnd.google.colaboratory.intrinsic+json": {
              "type": "string"
            }
          },
          "metadata": {},
          "execution_count": 120
        }
      ]
    },
    {
      "cell_type": "code",
      "source": [
        "max_len = 50"
      ],
      "metadata": {
        "id": "MSgqPeKk6k1l"
      },
      "execution_count": null,
      "outputs": []
    },
    {
      "cell_type": "code",
      "source": [
        "tokenizer = Tokenizer(num_words=num_words)\n",
        "tokenizer.fit_on_texts(train_sentences)"
      ],
      "metadata": {
        "id": "_ZJH2VxJ66eI"
      },
      "execution_count": null,
      "outputs": []
    },
    {
      "cell_type": "code",
      "source": [
        "train_sequences = tokenizer.texts_to_sequences(train_sentences)\n",
        "train_padded = pad_sequences(train_sequences, maxlen=max_len, truncating=\"post\", padding=\"post\")"
      ],
      "metadata": {
        "id": "WUiiYJDx7QVq"
      },
      "execution_count": null,
      "outputs": []
    },
    {
      "cell_type": "code",
      "source": [
        "test_sequences = tokenizer.texts_to_sequences(test_sentences)\n",
        "test_padded = pad_sequences(test_sequences, maxlen=max_len, padding=\"post\", truncating=\"post\")"
      ],
      "metadata": {
        "id": "VjL0Hy9b_qiM"
      },
      "execution_count": null,
      "outputs": []
    },
    {
      "cell_type": "code",
      "source": [
        "print(train.text[10])\n",
        "print(train_sequences[10])"
      ],
      "metadata": {
        "colab": {
          "base_uri": "https://localhost:8080/"
        },
        "id": "hxNkedn4AQ0t",
        "outputId": "9aa728ce-527f-4c9e-d880-0d670036cea2"
      },
      "execution_count": null,
      "outputs": [
        {
          "output_type": "stream",
          "name": "stdout",
          "text": [
            "gives aa fuck shit diamonds jews fuck\n",
            "[407, 138, 48, 322, 100, 101, 115, 10]\n"
          ]
        }
      ]
    },
    {
      "cell_type": "code",
      "source": [
        "word_index = tokenizer.word_index\n",
        "print(\"Number of unique words: \", len(word_index))"
      ],
      "metadata": {
        "colab": {
          "base_uri": "https://localhost:8080/"
        },
        "id": "BrSPRpENAsgx",
        "outputId": "0c9356ef-e383-46af-ca50-b5c0a13aa876"
      },
      "execution_count": null,
      "outputs": [
        {
          "output_type": "stream",
          "name": "stdout",
          "text": [
            "Number of unique words:  3254\n"
          ]
        }
      ]
    },
    {
      "cell_type": "code",
      "source": [
        "print(test_sequences[10])\n",
        "print(test_padded[10])"
      ],
      "metadata": {
        "colab": {
          "base_uri": "https://localhost:8080/"
        },
        "id": "r0zq5NK1BCMb",
        "outputId": "856619a1-06b5-4380-d0fc-93cda7be0d56"
      },
      "execution_count": null,
      "outputs": [
        {
          "output_type": "stream",
          "name": "stdout",
          "text": [
            "[138, 526, 455, 42, 10, 73, 318, 23, 36, 45, 336]\n",
            "[138 526 455  42  10  73 318  23  36  45 336   0   0   0   0   0   0   0\n",
            "   0   0   0   0   0   0   0   0   0   0   0   0   0   0   0   0   0   0\n",
            "   0   0   0   0   0   0   0   0   0   0   0   0   0   0]\n"
          ]
        }
      ]
    },
    {
      "cell_type": "code",
      "source": [
        "word_index[\"clearly\"]"
      ],
      "metadata": {
        "colab": {
          "base_uri": "https://localhost:8080/"
        },
        "id": "PCS18gZRBtsN",
        "outputId": "090f8a3a-1882-43ac-e2f2-a376bf8f87aa"
      },
      "execution_count": null,
      "outputs": [
        {
          "output_type": "execute_result",
          "data": {
            "text/plain": [
              "525"
            ]
          },
          "metadata": {},
          "execution_count": 124
        }
      ]
    },
    {
      "cell_type": "code",
      "source": [
        "# Create the Embedding dictionary"
      ],
      "metadata": {
        "id": "bcEXXOIbCEW9"
      },
      "execution_count": null,
      "outputs": []
    },
    {
      "cell_type": "code",
      "source": [
        "embedding_dict = {}\n",
        "with open(\"glove.twitter.27B.100d.txt\", \"r\") as f:\n",
        "  for line in f:\n",
        "    values = line.split()\n",
        "    word = values[0]\n",
        "    vectors = np.asarray(values[1:], \"float32\")\n",
        "    embedding_dict[word] = vectors\n",
        "  f.close()"
      ],
      "metadata": {
        "id": "bJvp7HRh3DJi"
      },
      "execution_count": null,
      "outputs": []
    },
    {
      "cell_type": "code",
      "source": [
        "num_words = len(word_index) + 1\n",
        "embedding_matrix = np.zeros((num_words, 100))\n",
        "\n",
        "for word, i in word_index.items():\n",
        "  if i < num_words:\n",
        "    emb_vec = embedding_dict.get(word)\n",
        "    if emb_vec is not None:\n",
        "      embedding_matrix[i] = emb_vec"
      ],
      "metadata": {
        "id": "XT5zmZCJ0Q6c"
      },
      "execution_count": null,
      "outputs": []
    },
    {
      "cell_type": "code",
      "source": [
        "embedding_matrix"
      ],
      "metadata": {
        "colab": {
          "base_uri": "https://localhost:8080/"
        },
        "id": "c2tHmWxMDpl9",
        "outputId": "d5c890a0-8341-49a8-b3f4-ea5bc8b06e00"
      },
      "execution_count": null,
      "outputs": [
        {
          "output_type": "execute_result",
          "data": {
            "text/plain": [
              "array([[ 0.        ,  0.        ,  0.        , ...,  0.        ,\n",
              "         0.        ,  0.        ],\n",
              "       [ 0.3515    ,  0.16734999, -0.32128999, ..., -0.65280998,\n",
              "         0.70542002,  0.41204   ],\n",
              "       [-0.21063   , -0.010992  , -0.17552   , ..., -0.37547001,\n",
              "         0.58029002,  0.16067   ],\n",
              "       ...,\n",
              "       [ 0.022097  , -0.24957   ,  0.14702   , ...,  0.29541001,\n",
              "        -0.066459  , -0.13369   ],\n",
              "       [ 0.34681001, -0.32754999, -0.74555999, ..., -0.59878999,\n",
              "         0.12052   , -0.19338   ],\n",
              "       [-0.13657001, -0.18486001, -0.10945   , ..., -0.79948002,\n",
              "         0.44027001, -0.68939   ]])"
            ]
          },
          "metadata": {},
          "execution_count": 142
        }
      ]
    },
    {
      "cell_type": "code",
      "source": [
        "word_index[\"faggot\"]"
      ],
      "metadata": {
        "colab": {
          "base_uri": "https://localhost:8080/"
        },
        "id": "V_L_uN8GFFXY",
        "outputId": "f149a0ec-2242-43cd-bdc6-6bb305f3bd9a"
      },
      "execution_count": null,
      "outputs": [
        {
          "output_type": "execute_result",
          "data": {
            "text/plain": [
              "290"
            ]
          },
          "metadata": {},
          "execution_count": 143
        }
      ]
    },
    {
      "cell_type": "code",
      "source": [
        "embedding_dict.get(\"faggot\").shape"
      ],
      "metadata": {
        "colab": {
          "base_uri": "https://localhost:8080/"
        },
        "id": "YXBxevqpFMsq",
        "outputId": "5ce9ecfd-75c6-4d9e-9f0e-ec5fca5ad133"
      },
      "execution_count": null,
      "outputs": [
        {
          "output_type": "execute_result",
          "data": {
            "text/plain": [
              "(100,)"
            ]
          },
          "metadata": {},
          "execution_count": 148
        }
      ]
    },
    {
      "cell_type": "code",
      "source": [
        "(embedding_matrix[290] == embedding_dict.get(\"faggot\")).all()"
      ],
      "metadata": {
        "colab": {
          "base_uri": "https://localhost:8080/"
        },
        "id": "a61B3BoEFUqz",
        "outputId": "c28b5130-4ef1-40c6-b406-5b24189f83a1"
      },
      "execution_count": null,
      "outputs": [
        {
          "output_type": "execute_result",
          "data": {
            "text/plain": [
              "True"
            ]
          },
          "metadata": {},
          "execution_count": 145
        }
      ]
    },
    {
      "cell_type": "code",
      "source": [
        "print(train_padded.shape)\n",
        "print(train_labels.shape)"
      ],
      "metadata": {
        "colab": {
          "base_uri": "https://localhost:8080/"
        },
        "id": "t7aogujHFzi8",
        "outputId": "3444ca7e-4a02-4ca0-8067-c93b1e8ffdbc"
      },
      "execution_count": null,
      "outputs": [
        {
          "output_type": "stream",
          "name": "stdout",
          "text": [
            "(790, 50)\n",
            "(790,)\n"
          ]
        }
      ]
    },
    {
      "cell_type": "code",
      "source": [
        "print(test_padded.shape)\n",
        "print(test_labels.shape)"
      ],
      "metadata": {
        "colab": {
          "base_uri": "https://localhost:8080/"
        },
        "id": "ux6H-nWMGOtz",
        "outputId": "165ce04e-77a1-4179-c3a7-0b1612d9782d"
      },
      "execution_count": null,
      "outputs": [
        {
          "output_type": "stream",
          "name": "stdout",
          "text": [
            "(198, 50)\n",
            "(198,)\n"
          ]
        }
      ]
    },
    {
      "cell_type": "markdown",
      "source": [
        "**Baseline Model with** **GloVe**"
      ],
      "metadata": {
        "id": "3peOuxE5Gn23"
      }
    },
    {
      "cell_type": "code",
      "source": [
        "model = Sequential()\n",
        "\n",
        "model.add(\n",
        "    Embedding(\n",
        "        num_words,\n",
        "        100,\n",
        "        embeddings_initializer=Constant(embedding_matrix),\n",
        "        input_length=max_len,\n",
        "        trainable=False,\n",
        "    )\n",
        ")\n",
        "\n",
        "model.add(LSTM(100, dropout=0.1))\n",
        "model.add(Dense(1, activation=\"sigmoid\"))\n",
        "\n",
        "optimizer = Adam(learning_rate=3e-4)\n",
        "\n",
        "model.compile(loss=\"binary_crossentropy\", optimizer=optimizer, metrics=[\"accuracy\"])"
      ],
      "metadata": {
        "id": "mYd_RQkvGSSR"
      },
      "execution_count": null,
      "outputs": []
    },
    {
      "cell_type": "code",
      "source": [
        "history = model.fit(\n",
        "    train_padded,\n",
        "    train_labels,\n",
        "    epochs=20,\n",
        "    validation_data=(test_padded, test_labels),\n",
        "    verbose=1,\n",
        ")"
      ],
      "metadata": {
        "colab": {
          "base_uri": "https://localhost:8080/"
        },
        "id": "D5Ov6RikH_zD",
        "outputId": "6e4d5976-58d7-4dd8-c7d9-f2d8c5ac47d7"
      },
      "execution_count": null,
      "outputs": [
        {
          "output_type": "stream",
          "name": "stdout",
          "text": [
            "Epoch 1/20\n",
            "25/25 [==============================] - 2s 27ms/step - loss: 0.6916 - accuracy: 0.5658 - val_loss: 0.6904 - val_accuracy: 0.5455\n",
            "Epoch 2/20\n",
            "25/25 [==============================] - 0s 10ms/step - loss: 0.6854 - accuracy: 0.5709 - val_loss: 0.6899 - val_accuracy: 0.5455\n",
            "Epoch 3/20\n",
            "25/25 [==============================] - 0s 8ms/step - loss: 0.6825 - accuracy: 0.5684 - val_loss: 0.6902 - val_accuracy: 0.5455\n",
            "Epoch 4/20\n",
            "25/25 [==============================] - 0s 8ms/step - loss: 0.6807 - accuracy: 0.5709 - val_loss: 0.6912 - val_accuracy: 0.5455\n",
            "Epoch 5/20\n",
            "25/25 [==============================] - 0s 10ms/step - loss: 0.6577 - accuracy: 0.5810 - val_loss: 0.6418 - val_accuracy: 0.6061\n",
            "Epoch 6/20\n",
            "25/25 [==============================] - 0s 8ms/step - loss: 0.5996 - accuracy: 0.6924 - val_loss: 0.6114 - val_accuracy: 0.6818\n",
            "Epoch 7/20\n",
            "25/25 [==============================] - 0s 8ms/step - loss: 0.5635 - accuracy: 0.7063 - val_loss: 0.6034 - val_accuracy: 0.6616\n",
            "Epoch 8/20\n",
            "25/25 [==============================] - 0s 8ms/step - loss: 0.5438 - accuracy: 0.7228 - val_loss: 0.6282 - val_accuracy: 0.6566\n",
            "Epoch 9/20\n",
            "25/25 [==============================] - 0s 9ms/step - loss: 0.5160 - accuracy: 0.7405 - val_loss: 0.6474 - val_accuracy: 0.6465\n",
            "Epoch 10/20\n",
            "25/25 [==============================] - 0s 8ms/step - loss: 0.5184 - accuracy: 0.7468 - val_loss: 0.6593 - val_accuracy: 0.6616\n",
            "Epoch 11/20\n",
            "25/25 [==============================] - 0s 8ms/step - loss: 0.5001 - accuracy: 0.7747 - val_loss: 0.6284 - val_accuracy: 0.6566\n",
            "Epoch 12/20\n",
            "25/25 [==============================] - 0s 8ms/step - loss: 0.4775 - accuracy: 0.7848 - val_loss: 0.6521 - val_accuracy: 0.6465\n",
            "Epoch 13/20\n",
            "25/25 [==============================] - 0s 8ms/step - loss: 0.4736 - accuracy: 0.7848 - val_loss: 0.6615 - val_accuracy: 0.6162\n",
            "Epoch 14/20\n",
            "25/25 [==============================] - 0s 8ms/step - loss: 0.4542 - accuracy: 0.8089 - val_loss: 0.6824 - val_accuracy: 0.6212\n",
            "Epoch 15/20\n",
            "25/25 [==============================] - 0s 8ms/step - loss: 0.4426 - accuracy: 0.8063 - val_loss: 0.6825 - val_accuracy: 0.6212\n",
            "Epoch 16/20\n",
            "25/25 [==============================] - 0s 8ms/step - loss: 0.4372 - accuracy: 0.8038 - val_loss: 0.6341 - val_accuracy: 0.6313\n",
            "Epoch 17/20\n",
            "25/25 [==============================] - 0s 8ms/step - loss: 0.4047 - accuracy: 0.8253 - val_loss: 0.7671 - val_accuracy: 0.6414\n",
            "Epoch 18/20\n",
            "25/25 [==============================] - 0s 8ms/step - loss: 0.3953 - accuracy: 0.8380 - val_loss: 0.7151 - val_accuracy: 0.6667\n",
            "Epoch 19/20\n",
            "25/25 [==============================] - 0s 7ms/step - loss: 0.3979 - accuracy: 0.8304 - val_loss: 0.7613 - val_accuracy: 0.6313\n",
            "Epoch 20/20\n",
            "25/25 [==============================] - 0s 8ms/step - loss: 0.3998 - accuracy: 0.8418 - val_loss: 0.7041 - val_accuracy: 0.7020\n"
          ]
        }
      ]
    },
    {
      "cell_type": "code",
      "source": [
        "sequences = test_sequences\n",
        "padded = test_padded"
      ],
      "metadata": {
        "id": "ytLO_9D9Is9K"
      },
      "execution_count": null,
      "outputs": []
    },
    {
      "cell_type": "code",
      "source": [
        "pred = model.predict(padded)\n",
        "pred_int = pred.round().astype(\"int\")"
      ],
      "metadata": {
        "colab": {
          "base_uri": "https://localhost:8080/"
        },
        "id": "s24Fd1LoLq6B",
        "outputId": "0fce4971-c1de-4bdc-8190-075c4c9c0854"
      },
      "execution_count": null,
      "outputs": [
        {
          "output_type": "stream",
          "name": "stdout",
          "text": [
            "7/7 [==============================] - 0s 4ms/step\n"
          ]
        }
      ]
    },
    {
      "cell_type": "code",
      "source": [
        "from sklearn.metrics import make_scorer, classification_report, confusion_matrix, f1_score, accuracy_score, precision_score, recall_score\n",
        "print(\"=== Classification Report ===\")\n",
        "print(classification_report(test_labels, pred_int))\n",
        "print('\\n')"
      ],
      "metadata": {
        "colab": {
          "base_uri": "https://localhost:8080/"
        },
        "id": "UrsiwhvhW_fU",
        "outputId": "d9ab8e05-5246-4de1-c2ca-307f0a104368"
      },
      "execution_count": null,
      "outputs": [
        {
          "output_type": "stream",
          "name": "stdout",
          "text": [
            "=== Classification Report ===\n",
            "              precision    recall  f1-score   support\n",
            "\n",
            "           0       0.78      0.63      0.70       108\n",
            "           1       0.64      0.79      0.71        90\n",
            "\n",
            "    accuracy                           0.70       198\n",
            "   macro avg       0.71      0.71      0.70       198\n",
            "weighted avg       0.72      0.70      0.70       198\n",
            "\n",
            "\n",
            "\n"
          ]
        }
      ]
    },
    {
      "cell_type": "code",
      "source": [
        "pred_int"
      ],
      "metadata": {
        "id": "EWplXUu4L4g8"
      },
      "execution_count": null,
      "outputs": []
    },
    {
      "cell_type": "code",
      "source": [
        "padded[10]"
      ],
      "metadata": {
        "colab": {
          "base_uri": "https://localhost:8080/"
        },
        "id": "crghg2SnL7Oo",
        "outputId": "e8e2bef6-cf2c-4848-acc2-db3831e5b609"
      },
      "execution_count": null,
      "outputs": [
        {
          "output_type": "execute_result",
          "data": {
            "text/plain": [
              "array([ 3,  1, 20, 81,  0,  0,  0,  0,  0,  0,  0,  0,  0,  0,  0,  0,  0,\n",
              "        0,  0,  0,  0,  0,  0,  0,  0,  0,  0,  0,  0,  0,  0,  0,  0,  0,\n",
              "        0,  0,  0,  0,  0,  0,  0,  0,  0,  0,  0,  0,  0,  0,  0,  0],\n",
              "      dtype=int32)"
            ]
          },
          "metadata": {},
          "execution_count": 174
        }
      ]
    },
    {
      "cell_type": "code",
      "source": [
        "model.predict(padded[10].reshape(1, -1))"
      ],
      "metadata": {
        "colab": {
          "base_uri": "https://localhost:8080/"
        },
        "id": "Lu4-eGrAMTqT",
        "outputId": "00dea0a0-2c3f-4a43-a38f-987b26d5a91c"
      },
      "execution_count": null,
      "outputs": [
        {
          "output_type": "stream",
          "name": "stdout",
          "text": [
            "1/1 [==============================] - 0s 19ms/step\n"
          ]
        },
        {
          "output_type": "execute_result",
          "data": {
            "text/plain": [
              "array([[0.2855408]], dtype=float32)"
            ]
          },
          "metadata": {},
          "execution_count": 175
        }
      ]
    },
    {
      "cell_type": "code",
      "source": [
        "reverse_word_index = dict([(value, key) for (key, value) in word_index.items()])"
      ],
      "metadata": {
        "id": "0uu5ScnWMdiJ"
      },
      "execution_count": null,
      "outputs": []
    },
    {
      "cell_type": "code",
      "source": [
        "def decode(text):\n",
        "  return \" \".join([reverse_word_index.get(i, \"?\") for i in text])"
      ],
      "metadata": {
        "id": "2Y7e4ePIMpw3"
      },
      "execution_count": null,
      "outputs": []
    },
    {
      "cell_type": "code",
      "source": [
        "decode(sequences[10])"
      ],
      "metadata": {
        "colab": {
          "base_uri": "https://localhost:8080/",
          "height": 35
        },
        "id": "7qjnm2ahM05e",
        "outputId": "c5b12f42-e631-4026-97d4-cccea14c3baa"
      },
      "execution_count": null,
      "outputs": [
        {
          "output_type": "execute_result",
          "data": {
            "text/plain": [
              "'white people shit human'"
            ],
            "application/vnd.google.colaboratory.intrinsic+json": {
              "type": "string"
            }
          },
          "metadata": {},
          "execution_count": 178
        }
      ]
    },
    {
      "cell_type": "code",
      "source": [
        "from sklearn.metrics import make_scorer, classification_report, confusion_matrix, f1_score, accuracy_score, precision_score, recall_score\n",
        "print(\"=== Classification Report ===\")\n",
        "print(classification_report(y_test, y_pred))\n",
        "print('\\n')"
      ],
      "metadata": {
        "id": "TSqMGEwZNAUZ"
      },
      "execution_count": null,
      "outputs": []
    }
  ]
}